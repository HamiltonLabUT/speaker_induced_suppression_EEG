{
 "cells": [
  {
   "cell_type": "markdown",
   "id": "539e8b7e",
   "metadata": {},
   "source": [
    "## Train linear model\n",
    "This notebook fits linear encoding models to phoneme level data using different stimulus matrices, depending on the analysis in question. Here is a useful shorthand for the different model constructions:\n",
    "* Model 1: 14 phonological features + 4 task features + normalized EMG\n",
    "* Model 2: 42 phonological features (14 perception only, 14 production only, 14 combined) + 4 task features + normalized EMG\n",
    "* Model 3: 14 phonological features + 2 task features (predictability contrast omitted) + normalized EMG\n",
    "* Model 4: 14 phonological features + 2 task features (perception/production contrast omitted) + normalized EMG\n",
    "\n",
    "Any model ending in `e` is the same as the above, but _without_ an EMG regressor.\n",
    "\n",
    "**Warning: this notebook is very computationally intensive.** You may wish to run it on your lab server instead of a local machine. Another alternative is to split the subjects up into smaller subsets, then run those subsets instead of holding all the subjects' models in memory at the same time."
   ]
  },
  {
   "cell_type": "code",
   "execution_count": 1,
   "id": "e91f6266",
   "metadata": {},
   "outputs": [],
   "source": [
    "import mne\n",
    "import re\n",
    "import numpy as np\n",
    "from glob import glob\n",
    "import csv\n",
    "from matplotlib import cm,rcParams\n",
    "from matplotlib import pyplot as plt\n",
    "import pickle\n",
    "import h5py\n",
    "from tqdm.notebook import tqdm\n",
    "import sys\n",
    "sys.path.append('./utils/')\n",
    "import textgrid\n",
    "import strf"
   ]
  },
  {
   "cell_type": "code",
   "execution_count": 2,
   "id": "4b4583f3",
   "metadata": {},
   "outputs": [],
   "source": [
    "# Change these path for running the notebook locally\n",
    "eeg_data_path = '/path/to/dataset/' # downloadable from OSF: https://doi.org/10.17605/OSF.IO/FNRD9\n",
    "git_path  = '/path/to/git/speaker_induced_suppression_EEG/'\n",
    "pkl_path = '/path/to/pickles/' # Where the split data will be saved\n",
    "h5_path = '/path/to/h5/' # Where the model results will be saved"
   ]
  },
  {
   "cell_type": "code",
   "execution_count": 3,
   "id": "a5dbeb0f",
   "metadata": {},
   "outputs": [
    {
     "name": "stdout",
     "output_type": "stream",
     "text": [
      "['dorsal', 'coronal', 'labial', 'high', 'front', 'low', 'back', 'plosive', 'fricative', 'syllabic', 'nasal', 'voiced', 'obstruent', 'sonorant']\n",
      "14\n"
     ]
    }
   ],
   "source": [
    "exclude = ['OP0001','OP0002','OP0020']\n",
    "subjs = np.sort([s[-6:] for s in glob(f'{git_path}eventfiles/*') if 'OP0' in s and s[-6:] not in exclude])\n",
    "condition, level = 'all', 'phoneme'\n",
    "model_number = 'model1'\n",
    "tmin,tmax = -0.3,0.5\n",
    "delays = np.arange(np.floor(tmin*128),np.ceil(tmax*128),dtype=int)\n",
    "nboots = 10\n",
    "alphas=np.hstack((0, np.logspace(-4,4,20)))\n",
    "features_dict = {\n",
    "                'dorsal': ['y','w','k','kcl', 'g','gcl','eng','ng'],\n",
    "                'coronal': ['ch','jh','sh','zh','s','z','t','tcl','d','dcl','n','th','dh','l','r'],\n",
    "                'labial': ['f','v','p','pcl','b','bcl','m','em','w'],\n",
    "                'high': ['uh','ux','uw','iy','ih','ix','ey','eh','oy'],\n",
    "                'front': ['iy','ih','ix','ey','eh','ae','ay'],\n",
    "                'low': ['aa','ao','ah','ax','ae','aw','ay','axr','ow','oy'],\n",
    "                'back': ['aa','ao','ow','ah','ax','ax-h','uh','ux','uw','axr','aw'],\n",
    "                'plosive': ['p','pcl','t','tcl','k','kcl','b','bcl','d','dcl','g','gcl','q'],\n",
    "                'fricative': ['f','v','th','dh','s','sh','z','zh','hh','hv','ch','jh'],\n",
    "                'syllabic': ['aa', 'ae', 'ah', 'ao', 'aw', 'ax', 'ax-h', 'axr', 'ay','eh','ey','ih', 'ix', 'iy','ow', 'oy','uh', 'uw', 'ux'],\n",
    "                'nasal': ['m','em','n','en','ng','eng','nx'],\n",
    "                'voiced':   ['aa', 'ae', 'ah', 'ao', 'aw', 'ax', 'ax-h', 'axr', 'ay','eh','ey','ih', 'ix', 'iy','ow', 'oy','uh', 'uw', 'ux','w','y','el','l','r','dh','z','v','b','bcl','d','dcl','g','gcl','m','em','n','en','eng','ng','nx','q','jh','zh'],\n",
    "                'obstruent': ['b', 'bcl', 'ch', 'd', 'dcl', 'dh', 'dx','f', 'g', 'gcl', 'hh', 'hv','jh', 'k', 'kcl', 'p', 'pcl', 'q', 's', 'sh','t', 'tcl', 'th','v','z', 'zh','q'],\n",
    "                'sonorant': ['aa', 'ae', 'ah', 'ao', 'aw', 'ax', 'ax-h', 'axr', 'ay','eh','ey','ih', 'ix', 'iy','ow', 'oy','uh', 'uw', 'ux','w','y','el','l','r','m', 'n', 'ng', 'eng', 'nx','en','em'],\n",
    "        }\n",
    "features = [f for f in features_dict.keys()]\n",
    "print(features)\n",
    "print(len(features))"
   ]
  },
  {
   "cell_type": "code",
   "execution_count": 4,
   "id": "a31fd759",
   "metadata": {},
   "outputs": [
    {
     "data": {
      "application/json": {
       "ascii": false,
       "bar_format": null,
       "colour": null,
       "elapsed": 0.016477584838867188,
       "initial": 0,
       "n": 0,
       "ncols": null,
       "nrows": 24,
       "postfix": null,
       "prefix": "",
       "rate": null,
       "total": 18,
       "unit": "it",
       "unit_divisor": 1000,
       "unit_scale": false
      },
      "application/vnd.jupyter.widget-view+json": {
       "model_id": "f6ef93f1a4e547deb84ba9dda8eae81a",
       "version_major": 2,
       "version_minor": 0
      },
      "text/plain": [
       "  0%|          | 0/18 [00:00<?, ?it/s]"
      ]
     },
     "metadata": {},
     "output_type": "display_data"
    },
    {
     "name": "stdout",
     "output_type": "stream",
     "text": [
      "Opening raw data file /home/kfsh/data/eeg/OP0003/OP0003_B1/OP0003_B1_ica.fif...\n",
      "    Range : 0 ... 516273 =      0.000 ...  4033.383 secs\n",
      "Ready.\n",
      "Reading 0 ... 516273  =      0.000 ...  4033.383 secs...\n"
     ]
    },
    {
     "name": "stderr",
     "output_type": "stream",
     "text": [
      "/tmp/ipykernel_16062/139556513.py:9: RuntimeWarning: This filename (/home/kfsh/data/eeg/OP0003/OP0003_B1/OP0003_B1_ica.fif) does not conform to MNE naming conventions. All raw files should end with raw.fif, raw_sss.fif, raw_tsss.fif, _meg.fif, _eeg.fif, _ieeg.fif, raw.fif.gz, raw_sss.fif.gz, raw_tsss.fif.gz, _meg.fif.gz, _eeg.fif.gz or _ieeg.fif.gz\n",
      "  ica_raw = mne.io.read_raw_fif(ica_fname, preload=True)\n"
     ]
    },
    {
     "name": "stdout",
     "output_type": "stream",
     "text": [
      "Opening raw data file /home/kfsh/data/eeg/OP0004/OP0004_B1/OP0004_B1_ica.fif...\n",
      "    Range : 0 ... 639525 =      0.000 ...  4996.289 secs\n",
      "Ready.\n",
      "Reading 0 ... 639525  =      0.000 ...  4996.289 secs...\n"
     ]
    },
    {
     "name": "stderr",
     "output_type": "stream",
     "text": [
      "/tmp/ipykernel_16062/139556513.py:9: RuntimeWarning: This filename (/home/kfsh/data/eeg/OP0004/OP0004_B1/OP0004_B1_ica.fif) does not conform to MNE naming conventions. All raw files should end with raw.fif, raw_sss.fif, raw_tsss.fif, _meg.fif, _eeg.fif, _ieeg.fif, raw.fif.gz, raw_sss.fif.gz, raw_tsss.fif.gz, _meg.fif.gz, _eeg.fif.gz or _ieeg.fif.gz\n",
      "  ica_raw = mne.io.read_raw_fif(ica_fname, preload=True)\n"
     ]
    },
    {
     "name": "stdout",
     "output_type": "stream",
     "text": [
      "Opening raw data file /home/kfsh/data/eeg/OP0005/OP0005_B1/OP0005_B1_ica.fif...\n",
      "    Range : 0 ... 409080 =      0.000 ...  3195.938 secs\n",
      "Ready.\n",
      "Reading 0 ... 409080  =      0.000 ...  3195.938 secs...\n"
     ]
    },
    {
     "name": "stderr",
     "output_type": "stream",
     "text": [
      "/tmp/ipykernel_16062/139556513.py:9: RuntimeWarning: This filename (/home/kfsh/data/eeg/OP0005/OP0005_B1/OP0005_B1_ica.fif) does not conform to MNE naming conventions. All raw files should end with raw.fif, raw_sss.fif, raw_tsss.fif, _meg.fif, _eeg.fif, _ieeg.fif, raw.fif.gz, raw_sss.fif.gz, raw_tsss.fif.gz, _meg.fif.gz, _eeg.fif.gz or _ieeg.fif.gz\n",
      "  ica_raw = mne.io.read_raw_fif(ica_fname, preload=True)\n"
     ]
    },
    {
     "name": "stdout",
     "output_type": "stream",
     "text": [
      "Opening raw data file /home/kfsh/data/eeg/OP0006/OP0006_B1/OP0006_B1_ica.fif...\n",
      "    Range : 0 ... 545631 =      0.000 ...  4262.742 secs\n",
      "Ready.\n",
      "Reading 0 ... 545631  =      0.000 ...  4262.742 secs...\n"
     ]
    },
    {
     "name": "stderr",
     "output_type": "stream",
     "text": [
      "/tmp/ipykernel_16062/139556513.py:9: RuntimeWarning: This filename (/home/kfsh/data/eeg/OP0006/OP0006_B1/OP0006_B1_ica.fif) does not conform to MNE naming conventions. All raw files should end with raw.fif, raw_sss.fif, raw_tsss.fif, _meg.fif, _eeg.fif, _ieeg.fif, raw.fif.gz, raw_sss.fif.gz, raw_tsss.fif.gz, _meg.fif.gz, _eeg.fif.gz or _ieeg.fif.gz\n",
      "  ica_raw = mne.io.read_raw_fif(ica_fname, preload=True)\n"
     ]
    },
    {
     "name": "stdout",
     "output_type": "stream",
     "text": [
      "Opening raw data file /home/kfsh/data/eeg/OP0007/OP0007_B1/OP0007_B1_ica.fif...\n",
      "    Range : 0 ... 478277 =      0.000 ...  3736.539 secs\n",
      "Ready.\n",
      "Reading 0 ... 478277  =      0.000 ...  3736.539 secs...\n"
     ]
    },
    {
     "name": "stderr",
     "output_type": "stream",
     "text": [
      "/tmp/ipykernel_16062/139556513.py:9: RuntimeWarning: This filename (/home/kfsh/data/eeg/OP0007/OP0007_B1/OP0007_B1_ica.fif) does not conform to MNE naming conventions. All raw files should end with raw.fif, raw_sss.fif, raw_tsss.fif, _meg.fif, _eeg.fif, _ieeg.fif, raw.fif.gz, raw_sss.fif.gz, raw_tsss.fif.gz, _meg.fif.gz, _eeg.fif.gz or _ieeg.fif.gz\n",
      "  ica_raw = mne.io.read_raw_fif(ica_fname, preload=True)\n"
     ]
    },
    {
     "name": "stdout",
     "output_type": "stream",
     "text": [
      "Opening raw data file /home/kfsh/data/eeg/OP0008/OP0008_B1/OP0008_B1_ica.fif...\n",
      "    Range : 0 ... 412850 =      0.000 ...  3225.391 secs\n",
      "Ready.\n",
      "Reading 0 ... 412850  =      0.000 ...  3225.391 secs...\n"
     ]
    },
    {
     "name": "stderr",
     "output_type": "stream",
     "text": [
      "/tmp/ipykernel_16062/139556513.py:9: RuntimeWarning: This filename (/home/kfsh/data/eeg/OP0008/OP0008_B1/OP0008_B1_ica.fif) does not conform to MNE naming conventions. All raw files should end with raw.fif, raw_sss.fif, raw_tsss.fif, _meg.fif, _eeg.fif, _ieeg.fif, raw.fif.gz, raw_sss.fif.gz, raw_tsss.fif.gz, _meg.fif.gz, _eeg.fif.gz or _ieeg.fif.gz\n",
      "  ica_raw = mne.io.read_raw_fif(ica_fname, preload=True)\n"
     ]
    },
    {
     "name": "stdout",
     "output_type": "stream",
     "text": [
      "Opening raw data file /home/kfsh/data/eeg/OP0009/OP0009_B1/OP0009_B1_ica.fif...\n",
      "    Range : 0 ... 407743 =      0.000 ...  3185.492 secs\n",
      "Ready.\n",
      "Reading 0 ... 407743  =      0.000 ...  3185.492 secs...\n"
     ]
    },
    {
     "name": "stderr",
     "output_type": "stream",
     "text": [
      "/tmp/ipykernel_16062/139556513.py:9: RuntimeWarning: This filename (/home/kfsh/data/eeg/OP0009/OP0009_B1/OP0009_B1_ica.fif) does not conform to MNE naming conventions. All raw files should end with raw.fif, raw_sss.fif, raw_tsss.fif, _meg.fif, _eeg.fif, _ieeg.fif, raw.fif.gz, raw_sss.fif.gz, raw_tsss.fif.gz, _meg.fif.gz, _eeg.fif.gz or _ieeg.fif.gz\n",
      "  ica_raw = mne.io.read_raw_fif(ica_fname, preload=True)\n"
     ]
    },
    {
     "name": "stdout",
     "output_type": "stream",
     "text": [
      "Opening raw data file /home/kfsh/data/eeg/OP0010/OP0010_B1/OP0010_B1_ica.fif...\n",
      "    Range : 0 ... 429330 =      0.000 ...  3354.141 secs\n",
      "Ready.\n",
      "Reading 0 ... 429330  =      0.000 ...  3354.141 secs...\n"
     ]
    },
    {
     "name": "stderr",
     "output_type": "stream",
     "text": [
      "/tmp/ipykernel_16062/139556513.py:9: RuntimeWarning: This filename (/home/kfsh/data/eeg/OP0010/OP0010_B1/OP0010_B1_ica.fif) does not conform to MNE naming conventions. All raw files should end with raw.fif, raw_sss.fif, raw_tsss.fif, _meg.fif, _eeg.fif, _ieeg.fif, raw.fif.gz, raw_sss.fif.gz, raw_tsss.fif.gz, _meg.fif.gz, _eeg.fif.gz or _ieeg.fif.gz\n",
      "  ica_raw = mne.io.read_raw_fif(ica_fname, preload=True)\n"
     ]
    },
    {
     "name": "stdout",
     "output_type": "stream",
     "text": [
      "Opening raw data file /home/kfsh/data/eeg/OP0011/OP0011_B1/OP0011_B1_ica.fif...\n",
      "    Range : 0 ... 378213 =      0.000 ...  2954.789 secs\n",
      "Ready.\n",
      "Reading 0 ... 378213  =      0.000 ...  2954.789 secs...\n"
     ]
    },
    {
     "name": "stderr",
     "output_type": "stream",
     "text": [
      "/tmp/ipykernel_16062/139556513.py:9: RuntimeWarning: This filename (/home/kfsh/data/eeg/OP0011/OP0011_B1/OP0011_B1_ica.fif) does not conform to MNE naming conventions. All raw files should end with raw.fif, raw_sss.fif, raw_tsss.fif, _meg.fif, _eeg.fif, _ieeg.fif, raw.fif.gz, raw_sss.fif.gz, raw_tsss.fif.gz, _meg.fif.gz, _eeg.fif.gz or _ieeg.fif.gz\n",
      "  ica_raw = mne.io.read_raw_fif(ica_fname, preload=True)\n"
     ]
    },
    {
     "name": "stdout",
     "output_type": "stream",
     "text": [
      "Opening raw data file /home/kfsh/data/eeg/OP0012/OP0012_B1/OP0012_B1_ica.fif...\n",
      "    Range : 0 ... 397381 =      0.000 ...  3104.539 secs\n",
      "Ready.\n",
      "Reading 0 ... 397381  =      0.000 ...  3104.539 secs...\n"
     ]
    },
    {
     "name": "stderr",
     "output_type": "stream",
     "text": [
      "/tmp/ipykernel_16062/139556513.py:9: RuntimeWarning: This filename (/home/kfsh/data/eeg/OP0012/OP0012_B1/OP0012_B1_ica.fif) does not conform to MNE naming conventions. All raw files should end with raw.fif, raw_sss.fif, raw_tsss.fif, _meg.fif, _eeg.fif, _ieeg.fif, raw.fif.gz, raw_sss.fif.gz, raw_tsss.fif.gz, _meg.fif.gz, _eeg.fif.gz or _ieeg.fif.gz\n",
      "  ica_raw = mne.io.read_raw_fif(ica_fname, preload=True)\n"
     ]
    },
    {
     "name": "stdout",
     "output_type": "stream",
     "text": [
      "Opening raw data file /home/kfsh/data/eeg/OP0013/OP0013_B1/OP0013_B1_ica.fif...\n",
      "    Range : 0 ... 539506 =      0.000 ...  4214.891 secs\n",
      "Ready.\n",
      "Reading 0 ... 539506  =      0.000 ...  4214.891 secs...\n"
     ]
    },
    {
     "name": "stderr",
     "output_type": "stream",
     "text": [
      "/tmp/ipykernel_16062/139556513.py:9: RuntimeWarning: This filename (/home/kfsh/data/eeg/OP0013/OP0013_B1/OP0013_B1_ica.fif) does not conform to MNE naming conventions. All raw files should end with raw.fif, raw_sss.fif, raw_tsss.fif, _meg.fif, _eeg.fif, _ieeg.fif, raw.fif.gz, raw_sss.fif.gz, raw_tsss.fif.gz, _meg.fif.gz, _eeg.fif.gz or _ieeg.fif.gz\n",
      "  ica_raw = mne.io.read_raw_fif(ica_fname, preload=True)\n"
     ]
    },
    {
     "name": "stdout",
     "output_type": "stream",
     "text": [
      "Opening raw data file /home/kfsh/data/eeg/OP0014/OP0014_B1/OP0014_B1_ica.fif...\n",
      "    Range : 0 ... 510418 =      0.000 ...  3987.641 secs\n",
      "Ready.\n",
      "Reading 0 ... 510418  =      0.000 ...  3987.641 secs...\n"
     ]
    },
    {
     "name": "stderr",
     "output_type": "stream",
     "text": [
      "/tmp/ipykernel_16062/139556513.py:9: RuntimeWarning: This filename (/home/kfsh/data/eeg/OP0014/OP0014_B1/OP0014_B1_ica.fif) does not conform to MNE naming conventions. All raw files should end with raw.fif, raw_sss.fif, raw_tsss.fif, _meg.fif, _eeg.fif, _ieeg.fif, raw.fif.gz, raw_sss.fif.gz, raw_tsss.fif.gz, _meg.fif.gz, _eeg.fif.gz or _ieeg.fif.gz\n",
      "  ica_raw = mne.io.read_raw_fif(ica_fname, preload=True)\n"
     ]
    },
    {
     "name": "stdout",
     "output_type": "stream",
     "text": [
      "Opening raw data file /home/kfsh/data/eeg/OP0015/OP0015_B1/OP0015_B1_ica.fif...\n",
      "    Range : 0 ... 358871 =      0.000 ...  2803.680 secs\n",
      "Ready.\n",
      "Reading 0 ... 358871  =      0.000 ...  2803.680 secs...\n"
     ]
    },
    {
     "name": "stderr",
     "output_type": "stream",
     "text": [
      "/tmp/ipykernel_16062/139556513.py:9: RuntimeWarning: This filename (/home/kfsh/data/eeg/OP0015/OP0015_B1/OP0015_B1_ica.fif) does not conform to MNE naming conventions. All raw files should end with raw.fif, raw_sss.fif, raw_tsss.fif, _meg.fif, _eeg.fif, _ieeg.fif, raw.fif.gz, raw_sss.fif.gz, raw_tsss.fif.gz, _meg.fif.gz, _eeg.fif.gz or _ieeg.fif.gz\n",
      "  ica_raw = mne.io.read_raw_fif(ica_fname, preload=True)\n"
     ]
    },
    {
     "name": "stdout",
     "output_type": "stream",
     "text": [
      "Opening raw data file /home/kfsh/data/eeg/OP0016/OP0016_B1/OP0016_B1_ica.fif...\n",
      "    Range : 0 ... 522686 =      0.000 ...  4083.484 secs\n",
      "Ready.\n",
      "Reading 0 ... 522686  =      0.000 ...  4083.484 secs...\n"
     ]
    },
    {
     "name": "stderr",
     "output_type": "stream",
     "text": [
      "/tmp/ipykernel_16062/139556513.py:9: RuntimeWarning: This filename (/home/kfsh/data/eeg/OP0016/OP0016_B1/OP0016_B1_ica.fif) does not conform to MNE naming conventions. All raw files should end with raw.fif, raw_sss.fif, raw_tsss.fif, _meg.fif, _eeg.fif, _ieeg.fif, raw.fif.gz, raw_sss.fif.gz, raw_tsss.fif.gz, _meg.fif.gz, _eeg.fif.gz or _ieeg.fif.gz\n",
      "  ica_raw = mne.io.read_raw_fif(ica_fname, preload=True)\n"
     ]
    },
    {
     "name": "stdout",
     "output_type": "stream",
     "text": [
      "Opening raw data file /home/kfsh/data/eeg/OP0017/OP0017_B1/OP0017_B1_ica.fif...\n",
      "    Range : 0 ... 432082 =      0.000 ...  3375.641 secs\n",
      "Ready.\n",
      "Reading 0 ... 432082  =      0.000 ...  3375.641 secs...\n"
     ]
    },
    {
     "name": "stderr",
     "output_type": "stream",
     "text": [
      "/tmp/ipykernel_16062/139556513.py:9: RuntimeWarning: This filename (/home/kfsh/data/eeg/OP0017/OP0017_B1/OP0017_B1_ica.fif) does not conform to MNE naming conventions. All raw files should end with raw.fif, raw_sss.fif, raw_tsss.fif, _meg.fif, _eeg.fif, _ieeg.fif, raw.fif.gz, raw_sss.fif.gz, raw_tsss.fif.gz, _meg.fif.gz, _eeg.fif.gz or _ieeg.fif.gz\n",
      "  ica_raw = mne.io.read_raw_fif(ica_fname, preload=True)\n"
     ]
    },
    {
     "name": "stdout",
     "output_type": "stream",
     "text": [
      "Opening raw data file /home/kfsh/data/eeg/OP0018/OP0018_B1/OP0018_B1_ica.fif...\n",
      "    Range : 0 ... 499109 =      0.000 ...  3899.289 secs\n",
      "Ready.\n",
      "Reading 0 ... 499109  =      0.000 ...  3899.289 secs...\n"
     ]
    },
    {
     "name": "stderr",
     "output_type": "stream",
     "text": [
      "/tmp/ipykernel_16062/139556513.py:9: RuntimeWarning: This filename (/home/kfsh/data/eeg/OP0018/OP0018_B1/OP0018_B1_ica.fif) does not conform to MNE naming conventions. All raw files should end with raw.fif, raw_sss.fif, raw_tsss.fif, _meg.fif, _eeg.fif, _ieeg.fif, raw.fif.gz, raw_sss.fif.gz, raw_tsss.fif.gz, _meg.fif.gz, _eeg.fif.gz or _ieeg.fif.gz\n",
      "  ica_raw = mne.io.read_raw_fif(ica_fname, preload=True)\n"
     ]
    },
    {
     "name": "stdout",
     "output_type": "stream",
     "text": [
      "Opening raw data file /home/kfsh/data/eeg/OP0019/OP0019_B1/OP0019_B1_ica.fif...\n",
      "    Range : 0 ... 393951 =      0.000 ...  3077.742 secs\n",
      "Ready.\n",
      "Reading 0 ... 393951  =      0.000 ...  3077.742 secs...\n"
     ]
    },
    {
     "name": "stderr",
     "output_type": "stream",
     "text": [
      "/tmp/ipykernel_16062/139556513.py:9: RuntimeWarning: This filename (/home/kfsh/data/eeg/OP0019/OP0019_B1/OP0019_B1_ica.fif) does not conform to MNE naming conventions. All raw files should end with raw.fif, raw_sss.fif, raw_tsss.fif, _meg.fif, _eeg.fif, _ieeg.fif, raw.fif.gz, raw_sss.fif.gz, raw_tsss.fif.gz, _meg.fif.gz, _eeg.fif.gz or _ieeg.fif.gz\n",
      "  ica_raw = mne.io.read_raw_fif(ica_fname, preload=True)\n"
     ]
    },
    {
     "name": "stdout",
     "output_type": "stream",
     "text": [
      "Opening raw data file /home/kfsh/data/eeg/OP0021/OP0021_B1/OP0021_B1_ica.fif...\n",
      "    Range : 0 ... 453451 =      0.000 ...  3542.586 secs\n",
      "Ready.\n",
      "Reading 0 ... 453451  =      0.000 ...  3542.586 secs...\n"
     ]
    },
    {
     "name": "stderr",
     "output_type": "stream",
     "text": [
      "/tmp/ipykernel_16062/139556513.py:9: RuntimeWarning: This filename (/home/kfsh/data/eeg/OP0021/OP0021_B1/OP0021_B1_ica.fif) does not conform to MNE naming conventions. All raw files should end with raw.fif, raw_sss.fif, raw_tsss.fif, _meg.fif, _eeg.fif, _ieeg.fif, raw.fif.gz, raw_sss.fif.gz, raw_tsss.fif.gz, _meg.fif.gz, _eeg.fif.gz or _ieeg.fif.gz\n",
      "  ica_raw = mne.io.read_raw_fif(ica_fname, preload=True)\n"
     ]
    }
   ],
   "source": [
    "# load raw and emg info from ica.fif (assuming we want it in our model)\n",
    "raws, emgs = dict(), dict()\n",
    "for s in tqdm(subjs):\n",
    "    blockid = f'{s}_B1'\n",
    "    fname = f'{eeg_data_path}{s}/{blockid}/{blockid}_cca.vhdr'\n",
    "    raws[s] = mne.io.read_raw_brainvision(fname,preload=True,verbose=False)\n",
    "    if model_number[-1] != 'e': # if we want EMG, get it\n",
    "        ica_fname = f'{eeg_data_path}{s}/{blockid}/{blockid}_ica.fif'\n",
    "        ica_raw = mne.io.read_raw_fif(ica_fname, preload=True)\n",
    "        if 'hEOG' in ica_raw.info['ch_names']:\n",
    "            ica_raw.notch_filter(60,picks=['hEOG'],verbose=False)\n",
    "            ica_raw.filter(l_freq=1,h_freq=None,picks=['hEOG'],verbose=False)\n",
    "            emg = ica_raw.get_data(picks=['hEOG'])\n",
    "            emgs[s] = emg/np.abs(emg).max() # Scale EMG\n",
    "        else:\n",
    "            raise Exception('EMG not found')"
   ]
  },
  {
   "cell_type": "code",
   "execution_count": 5,
   "id": "4757bd97",
   "metadata": {},
   "outputs": [
    {
     "data": {
      "application/json": {
       "ascii": false,
       "bar_format": null,
       "colour": null,
       "elapsed": 0.010802030563354492,
       "initial": 0,
       "n": 0,
       "ncols": null,
       "nrows": 24,
       "postfix": null,
       "prefix": "",
       "rate": null,
       "total": 18,
       "unit": "it",
       "unit_divisor": 1000,
       "unit_scale": false
      },
      "application/vnd.jupyter.widget-view+json": {
       "model_id": "30aa06443c92464ab90edeefff5b642f",
       "version_major": 2,
       "version_minor": 0
      },
      "text/plain": [
       "  0%|          | 0/18 [00:00<?, ?it/s]"
      ]
     },
     "metadata": {},
     "output_type": "display_data"
    },
    {
     "name": "stdout",
     "output_type": "stream",
     "text": [
      "OP0015 has no sh events, skipping...\n",
      "OP0015 has no sh events, skipping...\n",
      "OP0015 has no sh events, skipping...\n",
      "OP0015 has no sh events, skipping...\n",
      "OP0015 has no sh events, skipping...\n",
      "OP0015 has no sh events, skipping...\n"
     ]
    }
   ],
   "source": [
    "# get events\n",
    "samps = dict()\n",
    "for s in tqdm(subjs):\n",
    "    blockid = f'{s}_B1'\n",
    "    samps[s] = dict()\n",
    "    for ch in ['spkr','mic']:\n",
    "        samps[s][ch] = dict()\n",
    "        for l in ['sn','wr','ph']:\n",
    "            samps[s][ch][l] = dict()\n",
    "            for co in ['el','sh','all']:\n",
    "                if s == 'OP0015' and co == 'sh':\n",
    "                    print(f'{s} has no {co} events, skipping...')\n",
    "                else:\n",
    "                    event_fpath = f'{git_path}eventfiles/{s}/{blockid}/{blockid}_{ch}_{l}_{co}.txt'\n",
    "                    event_file = []\n",
    "                    with open(event_fpath,'r') as csvfile:\n",
    "                        csvReader = csv.reader(csvfile,delimiter='\\t')\n",
    "                        for row in csvReader:\n",
    "                            if l == 'ph':\n",
    "                                event_file.append(row[:3]+row[4:])\n",
    "                            else:\n",
    "                                event_file.append(row[:3])\n",
    "                    event_file = np.array(event_file,dtype=float)\n",
    "                    event_samp = event_file.copy()\n",
    "                    sfreq = raws[s].info['sfreq']\n",
    "                    event_samp[:,:2] = np.round(event_file[:,:2]*sfreq)\n",
    "                    # We need to remove non task samples from mic\n",
    "                    if ch == 'mic':\n",
    "                        tg_path = f'{git_path}textgrids/{s}/{blockid}/{blockid}_mic.textgrid'\n",
    "                        with open(tg_path) as r:\n",
    "                            tg = textgrid.TextGrid(r.read())\n",
    "                        task_times = []\n",
    "                        for row in tg.tiers[2].simple_transcript:\n",
    "                            if row[2] == 'task':\n",
    "                                task_times.append([float(row[0])*sfreq,float(row[1])*sfreq])\n",
    "                        task_times = np.array(task_times,dtype=int)                            \n",
    "                        task_range = [np.arange(t[0],t[1],step=1) for t in task_times]\n",
    "                        trial_samps = []\n",
    "                        for rng in task_range:\n",
    "                            for samp in event_samp.astype(int):\n",
    "                                if samp[0] in rng and samp[1] in rng:\n",
    "                                    trial_samps.append(samp)\n",
    "                        event_samp = np.array(trial_samps)\n",
    "                    samps[s][ch][l][co] = event_samp.astype(int)                  "
   ]
  },
  {
   "cell_type": "code",
   "execution_count": 6,
   "id": "d532d8a1",
   "metadata": {},
   "outputs": [
    {
     "data": {
      "application/json": {
       "ascii": false,
       "bar_format": null,
       "colour": null,
       "elapsed": 0.009294271469116211,
       "initial": 0,
       "n": 0,
       "ncols": null,
       "nrows": 24,
       "postfix": null,
       "prefix": "",
       "rate": null,
       "total": 18,
       "unit": "it",
       "unit_divisor": 1000,
       "unit_scale": false
      },
      "application/vnd.jupyter.widget-view+json": {
       "model_id": "68fc8b49b6474050a53adc75ad09153b",
       "version_major": 2,
       "version_minor": 0
      },
      "text/plain": [
       "  0%|          | 0/18 [00:00<?, ?it/s]"
      ]
     },
     "metadata": {},
     "output_type": "display_data"
    },
    {
     "name": "stdout",
     "output_type": "stream",
     "text": [
      "(19, 453452)\n",
      "(453452, 64)\n"
     ]
    }
   ],
   "source": [
    "# Now that we have our samples, get our stim and resp\n",
    "phonemes = np.loadtxt('./phonemes.txt',dtype=str)\n",
    "stims,resps = dict(),dict()\n",
    "for s in tqdm(subjs):\n",
    "    blockid = f'{s}_B1'\n",
    "    stims[s],resps[s] = dict(),dict()\n",
    "    picks = mne.pick_types(raws[s].info, meg=False,eeg=True,stim=False)\n",
    "    resps[s] = raws[s].get_data(picks=picks).T\n",
    "    phn_stim_spkr = np.zeros((resps[s].shape[0],len(phonemes)))\n",
    "    feat_stim_spkr = np.zeros((resps[s].shape[0],len(features)))\n",
    "    phn_stim_mic = np.zeros((resps[s].shape[0],len(phonemes)))\n",
    "    feat_stim_mic = np.zeros((resps[s].shape[0],len(features)))\n",
    "    el_sh_stim = np.zeros((resps[s].shape[0],2))\n",
    "    # Get timing of predictable/unpredictable segments\n",
    "    ev_fpath = f'{git_path}eventfiles/{s}/{blockid}/{blockid}_'\n",
    "    ev_files = [ev_fpath+'spkr_sn_el.txt',ev_fpath+'mic_sn_el.txt',\n",
    "                ev_fpath+'spkr_sn_sh.txt',ev_fpath+'mic_sn_sh.txt']\n",
    "    el_times,sh_times = [],[]\n",
    "    for f in ev_files:\n",
    "        with open(f,'r') as c:\n",
    "            cr = csv.reader(c,delimiter='\\t')\n",
    "            for row in cr:\n",
    "                onset = row[0]\n",
    "                offset = row[1]\n",
    "                if 'el' in f:\n",
    "                    el_times.append([onset,offset])\n",
    "                elif 'sh' in f:\n",
    "                    sh_times.append([onset,offset])\n",
    "    el_times = np.array(np.array(el_times,dtype=float)*128,dtype=int)\n",
    "    sh_times = np.array(np.array(sh_times,dtype=float)*128,dtype=int)\n",
    "    for samp in samps[s]['spkr']['ph']['all']:\n",
    "        onset = samp[0]\n",
    "        # get el/sh timing\n",
    "        for el_time in el_times:\n",
    "            if onset >= el_time[0] and onset <= el_time[1]:\n",
    "                el_sh_stim[onset,0] = 1\n",
    "        for sh_time in sh_times:\n",
    "            if onset >= sh_time[0] and onset <= sh_time[1]:\n",
    "                el_sh_stim[onset,1] = 1\n",
    "        # get label\n",
    "        phn_label = samp[2]\n",
    "        phn_stim_spkr[onset,phn_label]=1\n",
    "        phn_stripped = re.sub(r'\\d+', '', phonemes[phn_label].lower())\n",
    "        for fi, f in enumerate(features):\n",
    "            if phn_stripped in features_dict[f]:\n",
    "                feat_stim_spkr[onset,fi] = 1\n",
    "    for samp in samps[s]['mic']['ph']['all']:\n",
    "        onset = samp[0]\n",
    "        phn_label = samp[2]\n",
    "        phn_stim_mic[onset,phn_label]=1\n",
    "        phn_stripped = re.sub(r'\\d+', '', phonemes[phn_label].lower())\n",
    "        for fi, f in enumerate(features):\n",
    "            if phn_stripped in features_dict[f]:\n",
    "                feat_stim_mic[onset,fi] = 1\n",
    "    any_phn_stim = np.vstack((phn_stim_spkr, phn_stim_mic)).sum(0)\n",
    "    any_phn_stim = (np.atleast_2d(any_phn_stim)).T\n",
    "    if 'model1' in model_number:\n",
    "        stims[s] = np.hstack(((feat_stim_spkr+feat_stim_mic),\n",
    "                                np.atleast_2d(phn_stim_spkr.sum(1)).T,\n",
    "                                np.atleast_2d(phn_stim_mic.sum(1)).T,\n",
    "                                el_sh_stim)).T\n",
    "    if 'model2' in model_number:\n",
    "        print(s, \"creating model two\")\n",
    "        stims[s] = np.hstack(((feat_stim_spkr + feat_stim_mic), \n",
    "                              feat_stim_spkr, feat_stim_mic,\n",
    "                              np.atleast_2d(phn_stim_spkr.sum(1)).T, \n",
    "                              np.atleast_2d(phn_stim_mic.sum(1)).T,el_sh_stim)).T\n",
    "    if 'model3' in model_number:\n",
    "        print(s, \"creating model three\")\n",
    "        stims[s] = np.hstack(((feat_stim_spkr + feat_stim_mic), \n",
    "                              np.atleast_2d(phn_stim_spkr.sum(1)).T, \n",
    "                              np.atleast_2d(phn_stim_mic.sum(1)).T)).T\n",
    "    if 'model4' in model_number:\n",
    "        print(s, \"creating model four\")\n",
    "        stims[s] = np.hstack(((feat_stim_spkr + feat_stim_mic),el_sh_stim)).T\n",
    "    # Add the emg\n",
    "    if len(emgs.keys()) > 0:      \n",
    "        try:\n",
    "            stims[s] = np.vstack((stims[s],emgs[s]))\n",
    "        except:\n",
    "            warnings.warn(f'EMG for {s} not applied to model! Again, something is wrong...')\n",
    "print(stims[s].shape) # feats x samps\n",
    "print(resps[s].shape) # samps x chs"
   ]
  },
  {
   "cell_type": "code",
   "execution_count": 7,
   "id": "d401a58a",
   "metadata": {},
   "outputs": [
    {
     "data": {
      "application/json": {
       "ascii": false,
       "bar_format": null,
       "colour": null,
       "elapsed": 0.011777639389038086,
       "initial": 0,
       "n": 0,
       "ncols": null,
       "nrows": 24,
       "postfix": null,
       "prefix": "",
       "rate": null,
       "total": 18,
       "unit": "it",
       "unit_divisor": 1000,
       "unit_scale": false
      },
      "application/vnd.jupyter.widget-view+json": {
       "model_id": "c5128974ca084419a0bb45a1c201c234",
       "version_major": 2,
       "version_minor": 0
      },
      "text/plain": [
       "  0%|          | 0/18 [00:00<?, ?it/s]"
      ]
     },
     "metadata": {},
     "output_type": "display_data"
    },
    {
     "name": "stdout",
     "output_type": "stream",
     "text": [
      "OP0003_B1: training on 164714 samples, validating on 39396 samples. raw contained 516274 samples,\n",
      "OP0004_B1: training on 206994 samples, validating on 51644 samples. raw contained 639526 samples,\n",
      "OP0005_B1: training on 154436 samples, validating on 39292 samples. raw contained 409081 samples,\n",
      "OP0006_B1: training on 189840 samples, validating on 48277 samples. raw contained 545632 samples,\n",
      "OP0007_B1: training on 176129 samples, validating on 45315 samples. raw contained 478278 samples,\n",
      "OP0008_B1: training on 127526 samples, validating on 32749 samples. raw contained 412851 samples,\n",
      "OP0009_B1: training on 149277 samples, validating on 38696 samples. raw contained 407744 samples,\n",
      "OP0010_B1: training on 143997 samples, validating on 39513 samples. raw contained 429331 samples,\n",
      "OP0011_B1: training on 137337 samples, validating on 34678 samples. raw contained 378214 samples,\n",
      "OP0012_B1: training on 155049 samples, validating on 38165 samples. raw contained 397382 samples,\n",
      "OP0013_B1: training on 181218 samples, validating on 45814 samples. raw contained 539507 samples,\n",
      "OP0014_B1: training on 203420 samples, validating on 52977 samples. raw contained 510419 samples,\n",
      "OP0015_B1: training on 35160 samples, validating on 2279 samples. raw contained 358872 samples,\n",
      "OP0016_B1: training on 78898 samples, validating on 18030 samples. raw contained 522687 samples,\n",
      "OP0017_B1: training on 149845 samples, validating on 37357 samples. raw contained 432083 samples,\n",
      "OP0018_B1: training on 172776 samples, validating on 45456 samples. raw contained 499110 samples,\n",
      "OP0019_B1: training on 143736 samples, validating on 35630 samples. raw contained 393952 samples,\n",
      "OP0021_B1: training on 185394 samples, validating on 47451 samples. raw contained 453452 samples,\n"
     ]
    }
   ],
   "source": [
    "# split stim and resp into training and validation sets\n",
    "# we need to split them according to sentence ID to avoid double-dipping\n",
    "tStims,tResps,vStims,vResps = dict(),dict(),dict(),dict()\n",
    "for s in tqdm(subjs):\n",
    "    blockid = f'{s}_B1'\n",
    "    fpath = pkl_path + f'{model_number}/{blockid}_'\n",
    "    if len(glob(fpath + '*Stim*')) > 0:\n",
    "        print(f\"Data already split for {blockid}, loading now...\")\n",
    "        with open(fpath+'tResp.pkl','rb') as f:\n",
    "            tResps[s] = pickle.load(f)\n",
    "        with open(fpath+'vResp.pkl','rb') as f:\n",
    "            vResps[s] = pickle.load(f)\n",
    "        with open(fpath+'tStim.pkl','rb') as f:\n",
    "            tStims[s] = pickle.load(f)\n",
    "        with open(fpath+'vStim.pkl','rb') as f:\n",
    "            vStims[s] = pickle.load(f)\n",
    "    else:\n",
    "        sen_onset,sen_offset,sen_id = [],[],[]\n",
    "        for ch in ['spkr','mic']:\n",
    "            ev_fname = f'{git_path}eventfiles/{s}/{blockid}/{blockid}_{ch}_sn_all.txt'\n",
    "            with open(ev_fname,'r') as my_csv:\n",
    "                csvReader = csv.reader(my_csv,delimiter='\\t')\n",
    "                for row in csvReader:\n",
    "                    sen_onset.append(float(row[0]))\n",
    "                    sen_offset.append(float(row[1]))\n",
    "                    sen_id.append(int(row[2]))\n",
    "        sen_samps = dict() # sample ranges for each unique ID\n",
    "        for unique_idx, unique_id in enumerate(np.unique(sen_id)):\n",
    "            sen_range = []\n",
    "            for this_idx, this_id in enumerate(sen_id):\n",
    "                if this_id == unique_id: # if we have a match\n",
    "                    onset_samp = int(sen_onset[this_idx]*sfreq)\n",
    "                    offset_samp = int(sen_offset[this_idx]*sfreq)\n",
    "                    sen_range.append([onset_samp,offset_samp])\n",
    "            sen_samps[unique_id] = sen_range\n",
    "        jitter = 0.5\n",
    "        resp_dict,stim_dict = dict(),dict()\n",
    "        for unique_id in sen_samps.keys():\n",
    "            resp_matches, stim_matches = [], []\n",
    "            for unique_idx, times in enumerate(sen_samps[unique_id]):\n",
    "                onset_samp, offset_samp = times[0], times[1]\n",
    "                for samp_idx in range(len(resps[s])):\n",
    "                    if samp_idx >= onset_samp-jitter and samp_idx <= offset_samp+jitter:\n",
    "                        resp_matches.append(resps[s][samp_idx,:])\n",
    "                        stim_matches.append(stims[s][:,samp_idx])\n",
    "            resp_dict[unique_id] = np.array(resp_matches)\n",
    "            stim_dict[unique_id] = np.array(stim_matches)\n",
    "        tval_cutoff = 40 # 40/50 = 80% train\n",
    "        np.random.seed(6655321)\n",
    "        train_sen_ids = np.random.permutation(list(resp_dict.keys()))[:tval_cutoff]\n",
    "        np.random.seed(6655321)\n",
    "        val_sen_ids = np.random.permutation(list(resp_dict.keys()))[tval_cutoff:]\n",
    "        tStims_by_sen,vStims_by_sen,tResps_by_sen,vResps_by_sen = dict(),dict(),dict(),dict()\n",
    "        for train_id in train_sen_ids:\n",
    "            tResps_by_sen[train_id] = resp_dict[train_id]\n",
    "            tStims_by_sen[train_id] = stim_dict[train_id]\n",
    "        for val_id in val_sen_ids:\n",
    "            vResps_by_sen[val_id] = resp_dict[val_id]\n",
    "            vStims_by_sen[val_id] = stim_dict[val_id]\n",
    "        tStims[s] = np.vstack(list(tStims_by_sen.values()))\n",
    "        vStims[s] = np.vstack(list(vStims_by_sen.values()))\n",
    "        tResps[s] = np.vstack(list(tResps_by_sen.values()))\n",
    "        vResps[s] = np.vstack(list(vResps_by_sen.values()))\n",
    "        print(f\"{blockid}: training on {tStims[s].shape[0]} samples, validating on {vStims[s].shape[0]} samples. raw contained {stims[s].shape[1]} samples,\")\n",
    "        if tStims[s].shape[0] != tResps[s].shape[0]:\n",
    "                print(tStims[s].shape, tResps[s].shape)\n",
    "                raise Exception(\"Stim and resp do not have the same shape! (training)\")\n",
    "        if vStims[s].shape[0] != vResps[s].shape[0]:\n",
    "                print(vStims[s].shape, vResps[s].shape)\n",
    "                raise Exception(\"Stim and resp do not have the same shape! (validation)\")\n",
    "        # Save to h5\n",
    "        with open(fpath+'tResp.pkl','wb') as f:\n",
    "            pickle.dump(tResps[s],f)\n",
    "        with open(fpath+'vResp.pkl','wb') as f:\n",
    "            pickle.dump(vResps[s],f)\n",
    "        with open(fpath+'tStim.pkl','wb') as f:\n",
    "            pickle.dump(tStims[s],f)\n",
    "        with open(fpath+'vStim.pkl','wb') as f:\n",
    "            pickle.dump(vStims[s],f)"
   ]
  },
  {
   "cell_type": "code",
   "execution_count": 9,
   "id": "82c70e6d",
   "metadata": {},
   "outputs": [
    {
     "data": {
      "application/json": {
       "ascii": false,
       "bar_format": null,
       "colour": null,
       "elapsed": 0.009103059768676758,
       "initial": 0,
       "n": 0,
       "ncols": null,
       "nrows": 24,
       "postfix": null,
       "prefix": "",
       "rate": null,
       "total": 18,
       "unit": "it",
       "unit_divisor": 1000,
       "unit_scale": false
      },
      "application/vnd.jupyter.widget-view+json": {
       "model_id": "9a22251357484ddfbec8f4f692cd19b9",
       "version_major": 2,
       "version_minor": 0
      },
      "text/plain": [
       "  0%|          | 0/18 [00:00<?, ?it/s]"
      ]
     },
     "metadata": {},
     "output_type": "display_data"
    },
    {
     "name": "stdout",
     "output_type": "stream",
     "text": [
      "62 164714\n",
      "Cmode = False\n",
      "Number of time points is greater than the number of features\n",
      "Rstim shape (not cmode): \n",
      "(105815, 1957)\n",
      "Covmat shape: \n",
      "(1957, 1957)\n",
      "(1957, 1957) (1957, 105815) (105815, 62)\n"
     ]
    },
    {
     "name": "stderr",
     "output_type": "stream",
     "text": [
      "INFO:counter:1/10 items complete (8.65 seconds/item, 00:01:17 remaining)\n"
     ]
    },
    {
     "name": "stdout",
     "output_type": "stream",
     "text": [
      "Cmode = False\n",
      "Number of time points is greater than the number of features\n",
      "Rstim shape (not cmode): \n",
      "(105815, 1957)\n",
      "Covmat shape: \n",
      "(1957, 1957)\n",
      "(1957, 1957) (1957, 105815) (105815, 62)\n"
     ]
    },
    {
     "name": "stderr",
     "output_type": "stream",
     "text": [
      "INFO:counter:2/10 items complete (8.80 seconds/item, 00:01:10 remaining)\n"
     ]
    },
    {
     "name": "stdout",
     "output_type": "stream",
     "text": [
      "Cmode = False\n",
      "Number of time points is greater than the number of features\n",
      "Rstim shape (not cmode): \n",
      "(105815, 1957)\n",
      "Covmat shape: \n",
      "(1957, 1957)\n",
      "(1957, 1957) (1957, 105815) (105815, 62)\n"
     ]
    },
    {
     "name": "stderr",
     "output_type": "stream",
     "text": [
      "INFO:counter:3/10 items complete (9.02 seconds/item, 00:01:03 remaining)\n"
     ]
    },
    {
     "name": "stdout",
     "output_type": "stream",
     "text": [
      "Cmode = False\n",
      "Number of time points is greater than the number of features\n",
      "Rstim shape (not cmode): \n",
      "(105815, 1957)\n",
      "Covmat shape: \n",
      "(1957, 1957)\n",
      "(1957, 1957) (1957, 105815) (105815, 62)\n"
     ]
    },
    {
     "name": "stderr",
     "output_type": "stream",
     "text": [
      "INFO:counter:4/10 items complete (8.91 seconds/item, 00:00:53 remaining)\n"
     ]
    },
    {
     "name": "stdout",
     "output_type": "stream",
     "text": [
      "Cmode = False\n",
      "Number of time points is greater than the number of features\n",
      "Rstim shape (not cmode): \n",
      "(105815, 1957)\n",
      "Covmat shape: \n",
      "(1957, 1957)\n",
      "(1957, 1957) (1957, 105815) (105815, 62)\n"
     ]
    },
    {
     "name": "stderr",
     "output_type": "stream",
     "text": [
      "INFO:counter:5/10 items complete (8.81 seconds/item, 00:00:44 remaining)\n"
     ]
    },
    {
     "name": "stdout",
     "output_type": "stream",
     "text": [
      "Cmode = False\n",
      "Number of time points is greater than the number of features\n",
      "Rstim shape (not cmode): \n",
      "(105815, 1957)\n",
      "Covmat shape: \n",
      "(1957, 1957)\n",
      "(1957, 1957) (1957, 105815) (105815, 62)\n"
     ]
    },
    {
     "name": "stderr",
     "output_type": "stream",
     "text": [
      "INFO:counter:6/10 items complete (8.77 seconds/item, 00:00:35 remaining)\n"
     ]
    },
    {
     "name": "stdout",
     "output_type": "stream",
     "text": [
      "Cmode = False\n",
      "Number of time points is greater than the number of features\n",
      "Rstim shape (not cmode): \n",
      "(105815, 1957)\n",
      "Covmat shape: \n",
      "(1957, 1957)\n",
      "(1957, 1957) (1957, 105815) (105815, 62)\n"
     ]
    },
    {
     "name": "stderr",
     "output_type": "stream",
     "text": [
      "INFO:counter:7/10 items complete (8.77 seconds/item, 00:00:26 remaining)\n"
     ]
    },
    {
     "name": "stdout",
     "output_type": "stream",
     "text": [
      "Cmode = False\n",
      "Number of time points is greater than the number of features\n",
      "Rstim shape (not cmode): \n",
      "(105815, 1957)\n",
      "Covmat shape: \n",
      "(1957, 1957)\n",
      "(1957, 1957) (1957, 105815) (105815, 62)\n"
     ]
    },
    {
     "name": "stderr",
     "output_type": "stream",
     "text": [
      "INFO:counter:8/10 items complete (8.77 seconds/item, 00:00:17 remaining)\n"
     ]
    },
    {
     "name": "stdout",
     "output_type": "stream",
     "text": [
      "Cmode = False\n",
      "Number of time points is greater than the number of features\n",
      "Rstim shape (not cmode): \n",
      "(105815, 1957)\n",
      "Covmat shape: \n",
      "(1957, 1957)\n",
      "(1957, 1957) (1957, 105815) (105815, 62)\n"
     ]
    },
    {
     "name": "stderr",
     "output_type": "stream",
     "text": [
      "INFO:counter:9/10 items complete (8.77 seconds/item, 00:00:08 remaining)\n"
     ]
    },
    {
     "name": "stdout",
     "output_type": "stream",
     "text": [
      "Cmode = False\n",
      "Number of time points is greater than the number of features\n",
      "Rstim shape (not cmode): \n",
      "(105815, 1957)\n",
      "Covmat shape: \n",
      "(1957, 1957)\n",
      "(1957, 1957) (1957, 105815) (105815, 62)\n"
     ]
    },
    {
     "name": "stderr",
     "output_type": "stream",
     "text": [
      "INFO:counter:10/10 items complete (8.77 seconds/item, 00:00:00 remaining)\n"
     ]
    },
    {
     "name": "stdout",
     "output_type": "stream",
     "text": [
      "Cmode = False\n",
      "Number of time points is greater than the number of features\n",
      "stim shape (not cmode): \n",
      "(131771, 1957)\n",
      "Covmat shape: \n",
      "(1957, 1957)\n",
      "(1957, 1957) (1957, 131771) (131771, 62)\n",
      "wt shape:\n",
      "(1957, 62)\n",
      "(1957, 62)\n",
      "64 206994\n",
      "Cmode = False\n",
      "Number of time points is greater than the number of features\n",
      "Rstim shape (not cmode): \n",
      "(132635, 1957)\n",
      "Covmat shape: \n",
      "(1957, 1957)\n",
      "(1957, 1957) (1957, 132635) (132635, 64)\n"
     ]
    },
    {
     "name": "stderr",
     "output_type": "stream",
     "text": [
      "INFO:counter:1/10 items complete (11.03 seconds/item, 00:01:39 remaining)\n"
     ]
    },
    {
     "name": "stdout",
     "output_type": "stream",
     "text": [
      "Cmode = False\n",
      "Number of time points is greater than the number of features\n",
      "Rstim shape (not cmode): \n",
      "(132635, 1957)\n",
      "Covmat shape: \n",
      "(1957, 1957)\n",
      "(1957, 1957) (1957, 132635) (132635, 64)\n"
     ]
    },
    {
     "name": "stderr",
     "output_type": "stream",
     "text": [
      "INFO:counter:2/10 items complete (11.42 seconds/item, 00:01:31 remaining)\n"
     ]
    },
    {
     "name": "stdout",
     "output_type": "stream",
     "text": [
      "Cmode = False\n",
      "Number of time points is greater than the number of features\n",
      "Rstim shape (not cmode): \n",
      "(132635, 1957)\n",
      "Covmat shape: \n",
      "(1957, 1957)\n",
      "(1957, 1957) (1957, 132635) (132635, 64)\n"
     ]
    },
    {
     "name": "stderr",
     "output_type": "stream",
     "text": [
      "INFO:counter:3/10 items complete (11.19 seconds/item, 00:01:18 remaining)\n"
     ]
    },
    {
     "name": "stdout",
     "output_type": "stream",
     "text": [
      "Cmode = False\n",
      "Number of time points is greater than the number of features\n",
      "Rstim shape (not cmode): \n",
      "(132635, 1957)\n",
      "Covmat shape: \n",
      "(1957, 1957)\n",
      "(1957, 1957) (1957, 132635) (132635, 64)\n"
     ]
    },
    {
     "name": "stderr",
     "output_type": "stream",
     "text": [
      "INFO:counter:4/10 items complete (11.05 seconds/item, 00:01:06 remaining)\n"
     ]
    },
    {
     "name": "stdout",
     "output_type": "stream",
     "text": [
      "Cmode = False\n",
      "Number of time points is greater than the number of features\n",
      "Rstim shape (not cmode): \n",
      "(132635, 1957)\n",
      "Covmat shape: \n",
      "(1957, 1957)\n",
      "(1957, 1957) (1957, 132635) (132635, 64)\n"
     ]
    },
    {
     "name": "stderr",
     "output_type": "stream",
     "text": [
      "INFO:counter:5/10 items complete (11.00 seconds/item, 00:00:55 remaining)\n"
     ]
    },
    {
     "name": "stdout",
     "output_type": "stream",
     "text": [
      "Cmode = False\n",
      "Number of time points is greater than the number of features\n",
      "Rstim shape (not cmode): \n",
      "(132635, 1957)\n",
      "Covmat shape: \n",
      "(1957, 1957)\n",
      "(1957, 1957) (1957, 132635) (132635, 64)\n"
     ]
    },
    {
     "name": "stderr",
     "output_type": "stream",
     "text": [
      "INFO:counter:6/10 items complete (11.02 seconds/item, 00:00:44 remaining)\n"
     ]
    },
    {
     "name": "stdout",
     "output_type": "stream",
     "text": [
      "Cmode = False\n",
      "Number of time points is greater than the number of features\n",
      "Rstim shape (not cmode): \n",
      "(132635, 1957)\n",
      "Covmat shape: \n",
      "(1957, 1957)\n",
      "(1957, 1957) (1957, 132635) (132635, 64)\n"
     ]
    },
    {
     "name": "stderr",
     "output_type": "stream",
     "text": [
      "INFO:counter:7/10 items complete (11.02 seconds/item, 00:00:33 remaining)\n"
     ]
    },
    {
     "name": "stdout",
     "output_type": "stream",
     "text": [
      "Cmode = False\n",
      "Number of time points is greater than the number of features\n",
      "Rstim shape (not cmode): \n",
      "(132635, 1957)\n",
      "Covmat shape: \n",
      "(1957, 1957)\n",
      "(1957, 1957) (1957, 132635) (132635, 64)\n"
     ]
    },
    {
     "name": "stderr",
     "output_type": "stream",
     "text": [
      "INFO:counter:8/10 items complete (11.00 seconds/item, 00:00:22 remaining)\n"
     ]
    },
    {
     "name": "stdout",
     "output_type": "stream",
     "text": [
      "Cmode = False\n",
      "Number of time points is greater than the number of features\n",
      "Rstim shape (not cmode): \n",
      "(132635, 1957)\n",
      "Covmat shape: \n",
      "(1957, 1957)\n",
      "(1957, 1957) (1957, 132635) (132635, 64)\n"
     ]
    },
    {
     "name": "stderr",
     "output_type": "stream",
     "text": [
      "INFO:counter:9/10 items complete (10.98 seconds/item, 00:00:10 remaining)\n"
     ]
    },
    {
     "name": "stdout",
     "output_type": "stream",
     "text": [
      "Cmode = False\n",
      "Number of time points is greater than the number of features\n",
      "Rstim shape (not cmode): \n",
      "(132635, 1957)\n",
      "Covmat shape: \n",
      "(1957, 1957)\n",
      "(1957, 1957) (1957, 132635) (132635, 64)\n"
     ]
    },
    {
     "name": "stderr",
     "output_type": "stream",
     "text": [
      "INFO:counter:10/10 items complete (10.95 seconds/item, 00:00:00 remaining)\n"
     ]
    },
    {
     "name": "stdout",
     "output_type": "stream",
     "text": [
      "Cmode = False\n",
      "Number of time points is greater than the number of features\n",
      "stim shape (not cmode): \n",
      "(165595, 1957)\n",
      "Covmat shape: \n",
      "(1957, 1957)\n",
      "(1957, 1957) (1957, 165595) (165595, 64)\n",
      "wt shape:\n",
      "(1957, 64)\n",
      "(1957, 64)\n",
      "63 154436\n",
      "Cmode = False\n",
      "Number of time points is greater than the number of features\n",
      "Rstim shape (not cmode): \n",
      "(99240, 1957)\n",
      "Covmat shape: \n",
      "(1957, 1957)\n",
      "(1957, 1957) (1957, 99240) (99240, 63)\n"
     ]
    },
    {
     "name": "stderr",
     "output_type": "stream",
     "text": [
      "INFO:counter:1/10 items complete (8.53 seconds/item, 00:01:16 remaining)\n"
     ]
    },
    {
     "name": "stdout",
     "output_type": "stream",
     "text": [
      "Cmode = False\n",
      "Number of time points is greater than the number of features\n",
      "Rstim shape (not cmode): \n",
      "(99240, 1957)\n",
      "Covmat shape: \n",
      "(1957, 1957)\n",
      "(1957, 1957) (1957, 99240) (99240, 63)\n"
     ]
    },
    {
     "name": "stderr",
     "output_type": "stream",
     "text": [
      "INFO:counter:2/10 items complete (8.62 seconds/item, 00:01:08 remaining)\n"
     ]
    },
    {
     "name": "stdout",
     "output_type": "stream",
     "text": [
      "Cmode = False\n",
      "Number of time points is greater than the number of features\n",
      "Rstim shape (not cmode): \n",
      "(99240, 1957)\n",
      "Covmat shape: \n",
      "(1957, 1957)\n",
      "(1957, 1957) (1957, 99240) (99240, 63)\n"
     ]
    },
    {
     "name": "stderr",
     "output_type": "stream",
     "text": [
      "INFO:counter:3/10 items complete (8.75 seconds/item, 00:01:01 remaining)\n"
     ]
    },
    {
     "name": "stdout",
     "output_type": "stream",
     "text": [
      "Cmode = False\n",
      "Number of time points is greater than the number of features\n",
      "Rstim shape (not cmode): \n",
      "(99240, 1957)\n",
      "Covmat shape: \n",
      "(1957, 1957)\n",
      "(1957, 1957) (1957, 99240) (99240, 63)\n"
     ]
    },
    {
     "name": "stderr",
     "output_type": "stream",
     "text": [
      "INFO:counter:4/10 items complete (8.69 seconds/item, 00:00:52 remaining)\n"
     ]
    },
    {
     "name": "stdout",
     "output_type": "stream",
     "text": [
      "Cmode = False\n",
      "Number of time points is greater than the number of features\n",
      "Rstim shape (not cmode): \n",
      "(99240, 1957)\n",
      "Covmat shape: \n",
      "(1957, 1957)\n",
      "(1957, 1957) (1957, 99240) (99240, 63)\n"
     ]
    },
    {
     "name": "stderr",
     "output_type": "stream",
     "text": [
      "INFO:counter:5/10 items complete (8.72 seconds/item, 00:00:43 remaining)\n"
     ]
    },
    {
     "name": "stdout",
     "output_type": "stream",
     "text": [
      "Cmode = False\n",
      "Number of time points is greater than the number of features\n",
      "Rstim shape (not cmode): \n",
      "(99240, 1957)\n",
      "Covmat shape: \n",
      "(1957, 1957)\n",
      "(1957, 1957) (1957, 99240) (99240, 63)\n"
     ]
    },
    {
     "name": "stderr",
     "output_type": "stream",
     "text": [
      "INFO:counter:6/10 items complete (8.69 seconds/item, 00:00:34 remaining)\n"
     ]
    },
    {
     "name": "stdout",
     "output_type": "stream",
     "text": [
      "Cmode = False\n",
      "Number of time points is greater than the number of features\n",
      "Rstim shape (not cmode): \n",
      "(99240, 1957)\n",
      "Covmat shape: \n",
      "(1957, 1957)\n",
      "(1957, 1957) (1957, 99240) (99240, 63)\n"
     ]
    },
    {
     "name": "stderr",
     "output_type": "stream",
     "text": [
      "INFO:counter:7/10 items complete (8.77 seconds/item, 00:00:26 remaining)\n"
     ]
    },
    {
     "name": "stdout",
     "output_type": "stream",
     "text": [
      "Cmode = False\n",
      "Number of time points is greater than the number of features\n",
      "Rstim shape (not cmode): \n",
      "(99240, 1957)\n",
      "Covmat shape: \n",
      "(1957, 1957)\n",
      "(1957, 1957) (1957, 99240) (99240, 63)\n"
     ]
    },
    {
     "name": "stderr",
     "output_type": "stream",
     "text": [
      "INFO:counter:8/10 items complete (8.74 seconds/item, 00:00:17 remaining)\n"
     ]
    },
    {
     "name": "stdout",
     "output_type": "stream",
     "text": [
      "Cmode = False\n",
      "Number of time points is greater than the number of features\n",
      "Rstim shape (not cmode): \n",
      "(99240, 1957)\n",
      "Covmat shape: \n",
      "(1957, 1957)\n",
      "(1957, 1957) (1957, 99240) (99240, 63)\n"
     ]
    },
    {
     "name": "stderr",
     "output_type": "stream",
     "text": [
      "INFO:counter:9/10 items complete (8.71 seconds/item, 00:00:08 remaining)\n"
     ]
    },
    {
     "name": "stdout",
     "output_type": "stream",
     "text": [
      "Cmode = False\n",
      "Number of time points is greater than the number of features\n",
      "Rstim shape (not cmode): \n",
      "(99240, 1957)\n",
      "Covmat shape: \n",
      "(1957, 1957)\n",
      "(1957, 1957) (1957, 99240) (99240, 63)\n"
     ]
    },
    {
     "name": "stderr",
     "output_type": "stream",
     "text": [
      "INFO:counter:10/10 items complete (8.72 seconds/item, 00:00:00 remaining)\n"
     ]
    },
    {
     "name": "stdout",
     "output_type": "stream",
     "text": [
      "Cmode = False\n",
      "Number of time points is greater than the number of features\n",
      "stim shape (not cmode): \n",
      "(123548, 1957)\n",
      "Covmat shape: \n",
      "(1957, 1957)\n",
      "(1957, 1957) (1957, 123548) (123548, 63)\n",
      "wt shape:\n",
      "(1957, 63)\n",
      "(1957, 63)\n",
      "64 189840\n",
      "Cmode = False\n",
      "Number of time points is greater than the number of features\n",
      "Rstim shape (not cmode): \n",
      "(121796, 1957)\n",
      "Covmat shape: \n",
      "(1957, 1957)\n",
      "(1957, 1957) (1957, 121796) (121796, 64)\n"
     ]
    },
    {
     "name": "stderr",
     "output_type": "stream",
     "text": [
      "INFO:counter:1/10 items complete (11.57 seconds/item, 00:01:44 remaining)\n"
     ]
    },
    {
     "name": "stdout",
     "output_type": "stream",
     "text": [
      "Cmode = False\n",
      "Number of time points is greater than the number of features\n",
      "Rstim shape (not cmode): \n",
      "(121796, 1957)\n",
      "Covmat shape: \n",
      "(1957, 1957)\n",
      "(1957, 1957) (1957, 121796) (121796, 64)\n"
     ]
    },
    {
     "name": "stderr",
     "output_type": "stream",
     "text": [
      "INFO:counter:2/10 items complete (11.17 seconds/item, 00:01:29 remaining)\n"
     ]
    },
    {
     "name": "stdout",
     "output_type": "stream",
     "text": [
      "Cmode = False\n",
      "Number of time points is greater than the number of features\n",
      "Rstim shape (not cmode): \n",
      "(121796, 1957)\n",
      "Covmat shape: \n",
      "(1957, 1957)\n",
      "(1957, 1957) (1957, 121796) (121796, 64)\n"
     ]
    },
    {
     "name": "stderr",
     "output_type": "stream",
     "text": [
      "INFO:counter:3/10 items complete (11.19 seconds/item, 00:01:18 remaining)\n"
     ]
    },
    {
     "name": "stdout",
     "output_type": "stream",
     "text": [
      "Cmode = False\n",
      "Number of time points is greater than the number of features\n",
      "Rstim shape (not cmode): \n",
      "(121796, 1957)\n",
      "Covmat shape: \n",
      "(1957, 1957)\n",
      "(1957, 1957) (1957, 121796) (121796, 64)\n"
     ]
    },
    {
     "name": "stderr",
     "output_type": "stream",
     "text": [
      "INFO:counter:4/10 items complete (10.92 seconds/item, 00:01:05 remaining)\n"
     ]
    },
    {
     "name": "stdout",
     "output_type": "stream",
     "text": [
      "Cmode = False\n",
      "Number of time points is greater than the number of features\n",
      "Rstim shape (not cmode): \n",
      "(121796, 1957)\n",
      "Covmat shape: \n",
      "(1957, 1957)\n",
      "(1957, 1957) (1957, 121796) (121796, 64)\n"
     ]
    },
    {
     "name": "stderr",
     "output_type": "stream",
     "text": [
      "INFO:counter:5/10 items complete (10.87 seconds/item, 00:00:54 remaining)\n"
     ]
    },
    {
     "name": "stdout",
     "output_type": "stream",
     "text": [
      "Cmode = False\n",
      "Number of time points is greater than the number of features\n",
      "Rstim shape (not cmode): \n",
      "(121796, 1957)\n",
      "Covmat shape: \n",
      "(1957, 1957)\n",
      "(1957, 1957) (1957, 121796) (121796, 64)\n"
     ]
    },
    {
     "name": "stderr",
     "output_type": "stream",
     "text": [
      "INFO:counter:6/10 items complete (10.67 seconds/item, 00:00:42 remaining)\n"
     ]
    },
    {
     "name": "stdout",
     "output_type": "stream",
     "text": [
      "Cmode = False\n",
      "Number of time points is greater than the number of features\n",
      "Rstim shape (not cmode): \n",
      "(121796, 1957)\n",
      "Covmat shape: \n",
      "(1957, 1957)\n",
      "(1957, 1957) (1957, 121796) (121796, 64)\n"
     ]
    },
    {
     "name": "stderr",
     "output_type": "stream",
     "text": [
      "INFO:counter:7/10 items complete (10.54 seconds/item, 00:00:31 remaining)\n"
     ]
    },
    {
     "name": "stdout",
     "output_type": "stream",
     "text": [
      "Cmode = False\n",
      "Number of time points is greater than the number of features\n",
      "Rstim shape (not cmode): \n",
      "(121796, 1957)\n",
      "Covmat shape: \n",
      "(1957, 1957)\n",
      "(1957, 1957) (1957, 121796) (121796, 64)\n"
     ]
    },
    {
     "name": "stderr",
     "output_type": "stream",
     "text": [
      "INFO:counter:8/10 items complete (10.47 seconds/item, 00:00:20 remaining)\n"
     ]
    },
    {
     "name": "stdout",
     "output_type": "stream",
     "text": [
      "Cmode = False\n",
      "Number of time points is greater than the number of features\n",
      "Rstim shape (not cmode): \n",
      "(121796, 1957)\n",
      "Covmat shape: \n",
      "(1957, 1957)\n",
      "(1957, 1957) (1957, 121796) (121796, 64)\n"
     ]
    },
    {
     "name": "stderr",
     "output_type": "stream",
     "text": [
      "INFO:counter:9/10 items complete (10.45 seconds/item, 00:00:10 remaining)\n"
     ]
    },
    {
     "name": "stdout",
     "output_type": "stream",
     "text": [
      "Cmode = False\n",
      "Number of time points is greater than the number of features\n",
      "Rstim shape (not cmode): \n",
      "(121796, 1957)\n",
      "Covmat shape: \n",
      "(1957, 1957)\n",
      "(1957, 1957) (1957, 121796) (121796, 64)\n"
     ]
    },
    {
     "name": "stderr",
     "output_type": "stream",
     "text": [
      "INFO:counter:10/10 items complete (10.47 seconds/item, 00:00:00 remaining)\n"
     ]
    },
    {
     "name": "stdout",
     "output_type": "stream",
     "text": [
      "Cmode = False\n",
      "Number of time points is greater than the number of features\n",
      "stim shape (not cmode): \n",
      "(151872, 1957)\n",
      "Covmat shape: \n",
      "(1957, 1957)\n",
      "(1957, 1957) (1957, 151872) (151872, 64)\n",
      "wt shape:\n",
      "(1957, 64)\n",
      "(1957, 64)\n",
      "63 176129\n",
      "Cmode = False\n",
      "Number of time points is greater than the number of features\n",
      "Rstim shape (not cmode): \n",
      "(112887, 1957)\n",
      "Covmat shape: \n",
      "(1957, 1957)\n",
      "(1957, 1957) (1957, 112887) (112887, 63)\n"
     ]
    },
    {
     "name": "stderr",
     "output_type": "stream",
     "text": [
      "INFO:counter:1/10 items complete (9.37 seconds/item, 00:01:24 remaining)\n"
     ]
    },
    {
     "name": "stdout",
     "output_type": "stream",
     "text": [
      "Cmode = False\n",
      "Number of time points is greater than the number of features\n",
      "Rstim shape (not cmode): \n",
      "(112887, 1957)\n",
      "Covmat shape: \n",
      "(1957, 1957)\n",
      "(1957, 1957) (1957, 112887) (112887, 63)\n"
     ]
    },
    {
     "name": "stderr",
     "output_type": "stream",
     "text": [
      "INFO:counter:2/10 items complete (9.25 seconds/item, 00:01:14 remaining)\n"
     ]
    },
    {
     "name": "stdout",
     "output_type": "stream",
     "text": [
      "Cmode = False\n",
      "Number of time points is greater than the number of features\n",
      "Rstim shape (not cmode): \n",
      "(112887, 1957)\n",
      "Covmat shape: \n",
      "(1957, 1957)\n",
      "(1957, 1957) (1957, 112887) (112887, 63)\n"
     ]
    },
    {
     "name": "stderr",
     "output_type": "stream",
     "text": [
      "INFO:counter:3/10 items complete (9.71 seconds/item, 00:01:07 remaining)\n"
     ]
    },
    {
     "name": "stdout",
     "output_type": "stream",
     "text": [
      "Cmode = False\n",
      "Number of time points is greater than the number of features\n",
      "Rstim shape (not cmode): \n",
      "(112887, 1957)\n",
      "Covmat shape: \n",
      "(1957, 1957)\n",
      "(1957, 1957) (1957, 112887) (112887, 63)\n"
     ]
    },
    {
     "name": "stderr",
     "output_type": "stream",
     "text": [
      "INFO:counter:4/10 items complete (9.76 seconds/item, 00:00:58 remaining)\n"
     ]
    },
    {
     "name": "stdout",
     "output_type": "stream",
     "text": [
      "Cmode = False\n",
      "Number of time points is greater than the number of features\n",
      "Rstim shape (not cmode): \n",
      "(112887, 1957)\n",
      "Covmat shape: \n",
      "(1957, 1957)\n",
      "(1957, 1957) (1957, 112887) (112887, 63)\n"
     ]
    },
    {
     "name": "stderr",
     "output_type": "stream",
     "text": [
      "INFO:counter:5/10 items complete (9.85 seconds/item, 00:00:49 remaining)\n"
     ]
    },
    {
     "name": "stdout",
     "output_type": "stream",
     "text": [
      "Cmode = False\n",
      "Number of time points is greater than the number of features\n",
      "Rstim shape (not cmode): \n",
      "(112887, 1957)\n",
      "Covmat shape: \n",
      "(1957, 1957)\n",
      "(1957, 1957) (1957, 112887) (112887, 63)\n"
     ]
    },
    {
     "name": "stderr",
     "output_type": "stream",
     "text": [
      "INFO:counter:6/10 items complete (9.78 seconds/item, 00:00:39 remaining)\n"
     ]
    },
    {
     "name": "stdout",
     "output_type": "stream",
     "text": [
      "Cmode = False\n",
      "Number of time points is greater than the number of features\n",
      "Rstim shape (not cmode): \n",
      "(112887, 1957)\n",
      "Covmat shape: \n",
      "(1957, 1957)\n",
      "(1957, 1957) (1957, 112887) (112887, 63)\n"
     ]
    },
    {
     "name": "stderr",
     "output_type": "stream",
     "text": [
      "INFO:counter:7/10 items complete (9.80 seconds/item, 00:00:29 remaining)\n"
     ]
    },
    {
     "name": "stdout",
     "output_type": "stream",
     "text": [
      "Cmode = False\n",
      "Number of time points is greater than the number of features\n",
      "Rstim shape (not cmode): \n",
      "(112887, 1957)\n",
      "Covmat shape: \n",
      "(1957, 1957)\n",
      "(1957, 1957) (1957, 112887) (112887, 63)\n"
     ]
    },
    {
     "name": "stderr",
     "output_type": "stream",
     "text": [
      "INFO:counter:8/10 items complete (9.76 seconds/item, 00:00:19 remaining)\n"
     ]
    },
    {
     "name": "stdout",
     "output_type": "stream",
     "text": [
      "Cmode = False\n",
      "Number of time points is greater than the number of features\n",
      "Rstim shape (not cmode): \n",
      "(112887, 1957)\n",
      "Covmat shape: \n",
      "(1957, 1957)\n",
      "(1957, 1957) (1957, 112887) (112887, 63)\n"
     ]
    },
    {
     "name": "stderr",
     "output_type": "stream",
     "text": [
      "INFO:counter:9/10 items complete (9.73 seconds/item, 00:00:09 remaining)\n"
     ]
    },
    {
     "name": "stdout",
     "output_type": "stream",
     "text": [
      "Cmode = False\n",
      "Number of time points is greater than the number of features\n",
      "Rstim shape (not cmode): \n",
      "(112887, 1957)\n",
      "Covmat shape: \n",
      "(1957, 1957)\n",
      "(1957, 1957) (1957, 112887) (112887, 63)\n"
     ]
    },
    {
     "name": "stderr",
     "output_type": "stream",
     "text": [
      "INFO:counter:10/10 items complete (9.76 seconds/item, 00:00:00 remaining)\n"
     ]
    },
    {
     "name": "stdout",
     "output_type": "stream",
     "text": [
      "Cmode = False\n",
      "Number of time points is greater than the number of features\n",
      "stim shape (not cmode): \n",
      "(140903, 1957)\n",
      "Covmat shape: \n",
      "(1957, 1957)\n",
      "(1957, 1957) (1957, 140903) (140903, 63)\n",
      "wt shape:\n",
      "(1957, 63)\n",
      "(1957, 63)\n",
      "64 127526\n",
      "Cmode = False\n",
      "Number of time points is greater than the number of features\n",
      "Rstim shape (not cmode): \n",
      "(81832, 1957)\n",
      "Covmat shape: \n",
      "(1957, 1957)\n",
      "(1957, 1957) (1957, 81832) (81832, 64)\n"
     ]
    },
    {
     "name": "stderr",
     "output_type": "stream",
     "text": [
      "INFO:counter:1/10 items complete (6.97 seconds/item, 00:01:02 remaining)\n"
     ]
    },
    {
     "name": "stdout",
     "output_type": "stream",
     "text": [
      "Cmode = False\n",
      "Number of time points is greater than the number of features\n",
      "Rstim shape (not cmode): \n",
      "(81832, 1957)\n",
      "Covmat shape: \n",
      "(1957, 1957)\n",
      "(1957, 1957) (1957, 81832) (81832, 64)\n"
     ]
    },
    {
     "name": "stderr",
     "output_type": "stream",
     "text": [
      "INFO:counter:2/10 items complete (7.17 seconds/item, 00:00:57 remaining)\n"
     ]
    },
    {
     "name": "stdout",
     "output_type": "stream",
     "text": [
      "Cmode = False\n",
      "Number of time points is greater than the number of features\n",
      "Rstim shape (not cmode): \n",
      "(81832, 1957)\n",
      "Covmat shape: \n",
      "(1957, 1957)\n",
      "(1957, 1957) (1957, 81832) (81832, 64)\n"
     ]
    },
    {
     "name": "stderr",
     "output_type": "stream",
     "text": [
      "INFO:counter:3/10 items complete (7.38 seconds/item, 00:00:51 remaining)\n"
     ]
    },
    {
     "name": "stdout",
     "output_type": "stream",
     "text": [
      "Cmode = False\n",
      "Number of time points is greater than the number of features\n",
      "Rstim shape (not cmode): \n",
      "(81832, 1957)\n",
      "Covmat shape: \n",
      "(1957, 1957)\n",
      "(1957, 1957) (1957, 81832) (81832, 64)\n"
     ]
    },
    {
     "name": "stderr",
     "output_type": "stream",
     "text": [
      "INFO:counter:4/10 items complete (7.63 seconds/item, 00:00:45 remaining)\n"
     ]
    },
    {
     "name": "stdout",
     "output_type": "stream",
     "text": [
      "Cmode = False\n",
      "Number of time points is greater than the number of features\n",
      "Rstim shape (not cmode): \n",
      "(81832, 1957)\n",
      "Covmat shape: \n",
      "(1957, 1957)\n",
      "(1957, 1957) (1957, 81832) (81832, 64)\n"
     ]
    },
    {
     "name": "stderr",
     "output_type": "stream",
     "text": [
      "INFO:counter:5/10 items complete (7.61 seconds/item, 00:00:38 remaining)\n"
     ]
    },
    {
     "name": "stdout",
     "output_type": "stream",
     "text": [
      "Cmode = False\n",
      "Number of time points is greater than the number of features\n",
      "Rstim shape (not cmode): \n",
      "(81832, 1957)\n",
      "Covmat shape: \n",
      "(1957, 1957)\n",
      "(1957, 1957) (1957, 81832) (81832, 64)\n"
     ]
    },
    {
     "name": "stderr",
     "output_type": "stream",
     "text": [
      "INFO:counter:6/10 items complete (7.45 seconds/item, 00:00:29 remaining)\n"
     ]
    },
    {
     "name": "stdout",
     "output_type": "stream",
     "text": [
      "Cmode = False\n",
      "Number of time points is greater than the number of features\n",
      "Rstim shape (not cmode): \n",
      "(81832, 1957)\n",
      "Covmat shape: \n",
      "(1957, 1957)\n",
      "(1957, 1957) (1957, 81832) (81832, 64)\n"
     ]
    },
    {
     "name": "stderr",
     "output_type": "stream",
     "text": [
      "INFO:counter:7/10 items complete (7.34 seconds/item, 00:00:22 remaining)\n"
     ]
    },
    {
     "name": "stdout",
     "output_type": "stream",
     "text": [
      "Cmode = False\n",
      "Number of time points is greater than the number of features\n",
      "Rstim shape (not cmode): \n",
      "(81832, 1957)\n",
      "Covmat shape: \n",
      "(1957, 1957)\n",
      "(1957, 1957) (1957, 81832) (81832, 64)\n"
     ]
    },
    {
     "name": "stderr",
     "output_type": "stream",
     "text": [
      "INFO:counter:8/10 items complete (7.28 seconds/item, 00:00:14 remaining)\n"
     ]
    },
    {
     "name": "stdout",
     "output_type": "stream",
     "text": [
      "Cmode = False\n",
      "Number of time points is greater than the number of features\n",
      "Rstim shape (not cmode): \n",
      "(81832, 1957)\n",
      "Covmat shape: \n",
      "(1957, 1957)\n",
      "(1957, 1957) (1957, 81832) (81832, 64)\n"
     ]
    },
    {
     "name": "stderr",
     "output_type": "stream",
     "text": [
      "INFO:counter:9/10 items complete (7.28 seconds/item, 00:00:07 remaining)\n"
     ]
    },
    {
     "name": "stdout",
     "output_type": "stream",
     "text": [
      "Cmode = False\n",
      "Number of time points is greater than the number of features\n",
      "Rstim shape (not cmode): \n",
      "(81832, 1957)\n",
      "Covmat shape: \n",
      "(1957, 1957)\n",
      "(1957, 1957) (1957, 81832) (81832, 64)\n"
     ]
    },
    {
     "name": "stderr",
     "output_type": "stream",
     "text": [
      "INFO:counter:10/10 items complete (7.28 seconds/item, 00:00:00 remaining)\n"
     ]
    },
    {
     "name": "stdout",
     "output_type": "stream",
     "text": [
      "Cmode = False\n",
      "Number of time points is greater than the number of features\n",
      "stim shape (not cmode): \n",
      "(102020, 1957)\n",
      "Covmat shape: \n",
      "(1957, 1957)\n",
      "(1957, 1957) (1957, 102020) (102020, 64)\n",
      "wt shape:\n",
      "(1957, 64)\n",
      "(1957, 64)\n",
      "64 149277\n",
      "Cmode = False\n",
      "Number of time points is greater than the number of features\n",
      "Rstim shape (not cmode): \n",
      "(95937, 1957)\n",
      "Covmat shape: \n",
      "(1957, 1957)\n",
      "(1957, 1957) (1957, 95937) (95937, 64)\n"
     ]
    },
    {
     "name": "stderr",
     "output_type": "stream",
     "text": [
      "INFO:counter:1/10 items complete (8.84 seconds/item, 00:01:19 remaining)\n"
     ]
    },
    {
     "name": "stdout",
     "output_type": "stream",
     "text": [
      "Cmode = False\n",
      "Number of time points is greater than the number of features\n",
      "Rstim shape (not cmode): \n",
      "(95937, 1957)\n",
      "Covmat shape: \n",
      "(1957, 1957)\n",
      "(1957, 1957) (1957, 95937) (95937, 64)\n"
     ]
    },
    {
     "name": "stderr",
     "output_type": "stream",
     "text": [
      "INFO:counter:2/10 items complete (8.90 seconds/item, 00:01:11 remaining)\n"
     ]
    },
    {
     "name": "stdout",
     "output_type": "stream",
     "text": [
      "Cmode = False\n",
      "Number of time points is greater than the number of features\n",
      "Rstim shape (not cmode): \n",
      "(95937, 1957)\n",
      "Covmat shape: \n",
      "(1957, 1957)\n",
      "(1957, 1957) (1957, 95937) (95937, 64)\n"
     ]
    },
    {
     "name": "stderr",
     "output_type": "stream",
     "text": [
      "INFO:counter:3/10 items complete (9.03 seconds/item, 00:01:03 remaining)\n"
     ]
    },
    {
     "name": "stdout",
     "output_type": "stream",
     "text": [
      "Cmode = False\n",
      "Number of time points is greater than the number of features\n",
      "Rstim shape (not cmode): \n",
      "(95937, 1957)\n",
      "Covmat shape: \n",
      "(1957, 1957)\n",
      "(1957, 1957) (1957, 95937) (95937, 64)\n"
     ]
    },
    {
     "name": "stderr",
     "output_type": "stream",
     "text": [
      "INFO:counter:4/10 items complete (8.88 seconds/item, 00:00:53 remaining)\n"
     ]
    },
    {
     "name": "stdout",
     "output_type": "stream",
     "text": [
      "Cmode = False\n",
      "Number of time points is greater than the number of features\n",
      "Rstim shape (not cmode): \n",
      "(95937, 1957)\n",
      "Covmat shape: \n",
      "(1957, 1957)\n",
      "(1957, 1957) (1957, 95937) (95937, 64)\n"
     ]
    },
    {
     "name": "stderr",
     "output_type": "stream",
     "text": [
      "INFO:counter:5/10 items complete (8.69 seconds/item, 00:00:43 remaining)\n"
     ]
    },
    {
     "name": "stdout",
     "output_type": "stream",
     "text": [
      "Cmode = False\n",
      "Number of time points is greater than the number of features\n",
      "Rstim shape (not cmode): \n",
      "(95937, 1957)\n",
      "Covmat shape: \n",
      "(1957, 1957)\n",
      "(1957, 1957) (1957, 95937) (95937, 64)\n"
     ]
    },
    {
     "name": "stderr",
     "output_type": "stream",
     "text": [
      "INFO:counter:6/10 items complete (8.60 seconds/item, 00:00:34 remaining)\n"
     ]
    },
    {
     "name": "stdout",
     "output_type": "stream",
     "text": [
      "Cmode = False\n",
      "Number of time points is greater than the number of features\n",
      "Rstim shape (not cmode): \n",
      "(95937, 1957)\n",
      "Covmat shape: \n",
      "(1957, 1957)\n",
      "(1957, 1957) (1957, 95937) (95937, 64)\n"
     ]
    },
    {
     "name": "stderr",
     "output_type": "stream",
     "text": [
      "INFO:counter:7/10 items complete (8.59 seconds/item, 00:00:25 remaining)\n"
     ]
    },
    {
     "name": "stdout",
     "output_type": "stream",
     "text": [
      "Cmode = False\n",
      "Number of time points is greater than the number of features\n",
      "Rstim shape (not cmode): \n",
      "(95937, 1957)\n",
      "Covmat shape: \n",
      "(1957, 1957)\n",
      "(1957, 1957) (1957, 95937) (95937, 64)\n"
     ]
    },
    {
     "name": "stderr",
     "output_type": "stream",
     "text": [
      "INFO:counter:8/10 items complete (8.52 seconds/item, 00:00:17 remaining)\n"
     ]
    },
    {
     "name": "stdout",
     "output_type": "stream",
     "text": [
      "Cmode = False\n",
      "Number of time points is greater than the number of features\n",
      "Rstim shape (not cmode): \n",
      "(95937, 1957)\n",
      "Covmat shape: \n",
      "(1957, 1957)\n",
      "(1957, 1957) (1957, 95937) (95937, 64)\n"
     ]
    },
    {
     "name": "stderr",
     "output_type": "stream",
     "text": [
      "INFO:counter:9/10 items complete (8.46 seconds/item, 00:00:08 remaining)\n"
     ]
    },
    {
     "name": "stdout",
     "output_type": "stream",
     "text": [
      "Cmode = False\n",
      "Number of time points is greater than the number of features\n",
      "Rstim shape (not cmode): \n",
      "(95937, 1957)\n",
      "Covmat shape: \n",
      "(1957, 1957)\n",
      "(1957, 1957) (1957, 95937) (95937, 64)\n"
     ]
    },
    {
     "name": "stderr",
     "output_type": "stream",
     "text": [
      "INFO:counter:10/10 items complete (8.38 seconds/item, 00:00:00 remaining)\n"
     ]
    },
    {
     "name": "stdout",
     "output_type": "stream",
     "text": [
      "Cmode = False\n",
      "Number of time points is greater than the number of features\n",
      "stim shape (not cmode): \n",
      "(119421, 1957)\n",
      "Covmat shape: \n",
      "(1957, 1957)\n",
      "(1957, 1957) (1957, 119421) (119421, 64)\n",
      "wt shape:\n",
      "(1957, 64)\n",
      "(1957, 64)\n",
      "63 143997\n",
      "Cmode = False\n",
      "Number of time points is greater than the number of features\n",
      "Rstim shape (not cmode): \n",
      "(92537, 1957)\n",
      "Covmat shape: \n",
      "(1957, 1957)\n",
      "(1957, 1957) (1957, 92537) (92537, 63)\n"
     ]
    },
    {
     "name": "stderr",
     "output_type": "stream",
     "text": [
      "INFO:counter:1/10 items complete (8.20 seconds/item, 00:01:13 remaining)\n"
     ]
    },
    {
     "name": "stdout",
     "output_type": "stream",
     "text": [
      "Cmode = False\n",
      "Number of time points is greater than the number of features\n",
      "Rstim shape (not cmode): \n",
      "(92537, 1957)\n",
      "Covmat shape: \n",
      "(1957, 1957)\n",
      "(1957, 1957) (1957, 92537) (92537, 63)\n"
     ]
    },
    {
     "name": "stderr",
     "output_type": "stream",
     "text": [
      "INFO:counter:2/10 items complete (8.13 seconds/item, 00:01:05 remaining)\n"
     ]
    },
    {
     "name": "stdout",
     "output_type": "stream",
     "text": [
      "Cmode = False\n",
      "Number of time points is greater than the number of features\n",
      "Rstim shape (not cmode): \n",
      "(92537, 1957)\n",
      "Covmat shape: \n",
      "(1957, 1957)\n",
      "(1957, 1957) (1957, 92537) (92537, 63)\n"
     ]
    },
    {
     "name": "stderr",
     "output_type": "stream",
     "text": [
      "INFO:counter:3/10 items complete (7.93 seconds/item, 00:00:55 remaining)\n"
     ]
    },
    {
     "name": "stdout",
     "output_type": "stream",
     "text": [
      "Cmode = False\n",
      "Number of time points is greater than the number of features\n",
      "Rstim shape (not cmode): \n",
      "(92537, 1957)\n",
      "Covmat shape: \n",
      "(1957, 1957)\n",
      "(1957, 1957) (1957, 92537) (92537, 63)\n"
     ]
    },
    {
     "name": "stderr",
     "output_type": "stream",
     "text": [
      "INFO:counter:4/10 items complete (7.88 seconds/item, 00:00:47 remaining)\n"
     ]
    },
    {
     "name": "stdout",
     "output_type": "stream",
     "text": [
      "Cmode = False\n",
      "Number of time points is greater than the number of features\n",
      "Rstim shape (not cmode): \n",
      "(92537, 1957)\n",
      "Covmat shape: \n",
      "(1957, 1957)\n",
      "(1957, 1957) (1957, 92537) (92537, 63)\n"
     ]
    },
    {
     "name": "stderr",
     "output_type": "stream",
     "text": [
      "INFO:counter:5/10 items complete (7.94 seconds/item, 00:00:39 remaining)\n"
     ]
    },
    {
     "name": "stdout",
     "output_type": "stream",
     "text": [
      "Cmode = False\n",
      "Number of time points is greater than the number of features\n",
      "Rstim shape (not cmode): \n",
      "(92537, 1957)\n",
      "Covmat shape: \n",
      "(1957, 1957)\n",
      "(1957, 1957) (1957, 92537) (92537, 63)\n"
     ]
    },
    {
     "name": "stderr",
     "output_type": "stream",
     "text": [
      "INFO:counter:6/10 items complete (7.89 seconds/item, 00:00:31 remaining)\n"
     ]
    },
    {
     "name": "stdout",
     "output_type": "stream",
     "text": [
      "Cmode = False\n",
      "Number of time points is greater than the number of features\n",
      "Rstim shape (not cmode): \n",
      "(92537, 1957)\n",
      "Covmat shape: \n",
      "(1957, 1957)\n",
      "(1957, 1957) (1957, 92537) (92537, 63)\n"
     ]
    },
    {
     "name": "stderr",
     "output_type": "stream",
     "text": [
      "INFO:counter:7/10 items complete (7.84 seconds/item, 00:00:23 remaining)\n"
     ]
    },
    {
     "name": "stdout",
     "output_type": "stream",
     "text": [
      "Cmode = False\n",
      "Number of time points is greater than the number of features\n",
      "Rstim shape (not cmode): \n",
      "(92537, 1957)\n",
      "Covmat shape: \n",
      "(1957, 1957)\n",
      "(1957, 1957) (1957, 92537) (92537, 63)\n"
     ]
    },
    {
     "name": "stderr",
     "output_type": "stream",
     "text": [
      "INFO:counter:8/10 items complete (7.78 seconds/item, 00:00:15 remaining)\n"
     ]
    },
    {
     "name": "stdout",
     "output_type": "stream",
     "text": [
      "Cmode = False\n",
      "Number of time points is greater than the number of features\n",
      "Rstim shape (not cmode): \n",
      "(92537, 1957)\n",
      "Covmat shape: \n",
      "(1957, 1957)\n",
      "(1957, 1957) (1957, 92537) (92537, 63)\n"
     ]
    },
    {
     "name": "stderr",
     "output_type": "stream",
     "text": [
      "INFO:counter:9/10 items complete (7.77 seconds/item, 00:00:07 remaining)\n"
     ]
    },
    {
     "name": "stdout",
     "output_type": "stream",
     "text": [
      "Cmode = False\n",
      "Number of time points is greater than the number of features\n",
      "Rstim shape (not cmode): \n",
      "(92537, 1957)\n",
      "Covmat shape: \n",
      "(1957, 1957)\n",
      "(1957, 1957) (1957, 92537) (92537, 63)\n"
     ]
    },
    {
     "name": "stderr",
     "output_type": "stream",
     "text": [
      "INFO:counter:10/10 items complete (7.77 seconds/item, 00:00:00 remaining)\n"
     ]
    },
    {
     "name": "stdout",
     "output_type": "stream",
     "text": [
      "Cmode = False\n",
      "Number of time points is greater than the number of features\n",
      "stim shape (not cmode): \n",
      "(115197, 1957)\n",
      "Covmat shape: \n",
      "(1957, 1957)\n",
      "(1957, 1957) (1957, 115197) (115197, 63)\n",
      "wt shape:\n",
      "(1957, 63)\n",
      "(1957, 63)\n",
      "64 137337\n",
      "Cmode = False\n",
      "Number of time points is greater than the number of features\n",
      "Rstim shape (not cmode): \n",
      "(88033, 1957)\n",
      "Covmat shape: \n",
      "(1957, 1957)\n",
      "(1957, 1957) (1957, 88033) (88033, 64)\n"
     ]
    },
    {
     "name": "stderr",
     "output_type": "stream",
     "text": [
      "INFO:counter:1/10 items complete (8.46 seconds/item, 00:01:16 remaining)\n"
     ]
    },
    {
     "name": "stdout",
     "output_type": "stream",
     "text": [
      "Cmode = False\n",
      "Number of time points is greater than the number of features\n",
      "Rstim shape (not cmode): \n",
      "(88033, 1957)\n",
      "Covmat shape: \n",
      "(1957, 1957)\n",
      "(1957, 1957) (1957, 88033) (88033, 64)\n"
     ]
    },
    {
     "name": "stderr",
     "output_type": "stream",
     "text": [
      "INFO:counter:2/10 items complete (8.52 seconds/item, 00:01:08 remaining)\n"
     ]
    },
    {
     "name": "stdout",
     "output_type": "stream",
     "text": [
      "Cmode = False\n",
      "Number of time points is greater than the number of features\n",
      "Rstim shape (not cmode): \n",
      "(88033, 1957)\n",
      "Covmat shape: \n",
      "(1957, 1957)\n",
      "(1957, 1957) (1957, 88033) (88033, 64)\n"
     ]
    },
    {
     "name": "stderr",
     "output_type": "stream",
     "text": [
      "INFO:counter:3/10 items complete (8.21 seconds/item, 00:00:57 remaining)\n"
     ]
    },
    {
     "name": "stdout",
     "output_type": "stream",
     "text": [
      "Cmode = False\n",
      "Number of time points is greater than the number of features\n",
      "Rstim shape (not cmode): \n",
      "(88033, 1957)\n",
      "Covmat shape: \n",
      "(1957, 1957)\n",
      "(1957, 1957) (1957, 88033) (88033, 64)\n"
     ]
    },
    {
     "name": "stderr",
     "output_type": "stream",
     "text": [
      "INFO:counter:4/10 items complete (8.29 seconds/item, 00:00:49 remaining)\n"
     ]
    },
    {
     "name": "stdout",
     "output_type": "stream",
     "text": [
      "Cmode = False\n",
      "Number of time points is greater than the number of features\n",
      "Rstim shape (not cmode): \n",
      "(88033, 1957)\n",
      "Covmat shape: \n",
      "(1957, 1957)\n",
      "(1957, 1957) (1957, 88033) (88033, 64)\n"
     ]
    },
    {
     "name": "stderr",
     "output_type": "stream",
     "text": [
      "INFO:counter:5/10 items complete (8.20 seconds/item, 00:00:41 remaining)\n"
     ]
    },
    {
     "name": "stdout",
     "output_type": "stream",
     "text": [
      "Cmode = False\n",
      "Number of time points is greater than the number of features\n",
      "Rstim shape (not cmode): \n",
      "(88033, 1957)\n",
      "Covmat shape: \n",
      "(1957, 1957)\n",
      "(1957, 1957) (1957, 88033) (88033, 64)\n"
     ]
    },
    {
     "name": "stderr",
     "output_type": "stream",
     "text": [
      "INFO:counter:6/10 items complete (8.06 seconds/item, 00:00:32 remaining)\n"
     ]
    },
    {
     "name": "stdout",
     "output_type": "stream",
     "text": [
      "Cmode = False\n",
      "Number of time points is greater than the number of features\n",
      "Rstim shape (not cmode): \n",
      "(88033, 1957)\n",
      "Covmat shape: \n",
      "(1957, 1957)\n",
      "(1957, 1957) (1957, 88033) (88033, 64)\n"
     ]
    },
    {
     "name": "stderr",
     "output_type": "stream",
     "text": [
      "INFO:counter:7/10 items complete (7.95 seconds/item, 00:00:23 remaining)\n"
     ]
    },
    {
     "name": "stdout",
     "output_type": "stream",
     "text": [
      "Cmode = False\n",
      "Number of time points is greater than the number of features\n",
      "Rstim shape (not cmode): \n",
      "(88033, 1957)\n",
      "Covmat shape: \n",
      "(1957, 1957)\n",
      "(1957, 1957) (1957, 88033) (88033, 64)\n"
     ]
    },
    {
     "name": "stderr",
     "output_type": "stream",
     "text": [
      "INFO:counter:8/10 items complete (7.93 seconds/item, 00:00:15 remaining)\n"
     ]
    },
    {
     "name": "stdout",
     "output_type": "stream",
     "text": [
      "Cmode = False\n",
      "Number of time points is greater than the number of features\n",
      "Rstim shape (not cmode): \n",
      "(88033, 1957)\n",
      "Covmat shape: \n",
      "(1957, 1957)\n",
      "(1957, 1957) (1957, 88033) (88033, 64)\n"
     ]
    },
    {
     "name": "stderr",
     "output_type": "stream",
     "text": [
      "INFO:counter:9/10 items complete (7.88 seconds/item, 00:00:07 remaining)\n"
     ]
    },
    {
     "name": "stdout",
     "output_type": "stream",
     "text": [
      "Cmode = False\n",
      "Number of time points is greater than the number of features\n",
      "Rstim shape (not cmode): \n",
      "(88033, 1957)\n",
      "Covmat shape: \n",
      "(1957, 1957)\n",
      "(1957, 1957) (1957, 88033) (88033, 64)\n"
     ]
    },
    {
     "name": "stderr",
     "output_type": "stream",
     "text": [
      "INFO:counter:10/10 items complete (7.82 seconds/item, 00:00:00 remaining)\n"
     ]
    },
    {
     "name": "stdout",
     "output_type": "stream",
     "text": [
      "Cmode = False\n",
      "Number of time points is greater than the number of features\n",
      "stim shape (not cmode): \n",
      "(109869, 1957)\n",
      "Covmat shape: \n",
      "(1957, 1957)\n",
      "(1957, 1957) (1957, 109869) (109869, 64)\n",
      "wt shape:\n",
      "(1957, 64)\n",
      "(1957, 64)\n",
      "64 155049\n",
      "Cmode = False\n",
      "Number of time points is greater than the number of features\n",
      "Rstim shape (not cmode): \n",
      "(99319, 1957)\n",
      "Covmat shape: \n",
      "(1957, 1957)\n",
      "(1957, 1957) (1957, 99319) (99319, 64)\n"
     ]
    },
    {
     "name": "stderr",
     "output_type": "stream",
     "text": [
      "INFO:counter:1/10 items complete (9.17 seconds/item, 00:01:22 remaining)\n"
     ]
    },
    {
     "name": "stdout",
     "output_type": "stream",
     "text": [
      "Cmode = False\n",
      "Number of time points is greater than the number of features\n",
      "Rstim shape (not cmode): \n",
      "(99319, 1957)\n",
      "Covmat shape: \n",
      "(1957, 1957)\n",
      "(1957, 1957) (1957, 99319) (99319, 64)\n"
     ]
    },
    {
     "name": "stderr",
     "output_type": "stream",
     "text": [
      "INFO:counter:2/10 items complete (8.88 seconds/item, 00:01:11 remaining)\n"
     ]
    },
    {
     "name": "stdout",
     "output_type": "stream",
     "text": [
      "Cmode = False\n",
      "Number of time points is greater than the number of features\n",
      "Rstim shape (not cmode): \n",
      "(99319, 1957)\n",
      "Covmat shape: \n",
      "(1957, 1957)\n",
      "(1957, 1957) (1957, 99319) (99319, 64)\n"
     ]
    },
    {
     "name": "stderr",
     "output_type": "stream",
     "text": [
      "INFO:counter:3/10 items complete (8.81 seconds/item, 00:01:01 remaining)\n"
     ]
    },
    {
     "name": "stdout",
     "output_type": "stream",
     "text": [
      "Cmode = False\n",
      "Number of time points is greater than the number of features\n",
      "Rstim shape (not cmode): \n",
      "(99319, 1957)\n",
      "Covmat shape: \n",
      "(1957, 1957)\n",
      "(1957, 1957) (1957, 99319) (99319, 64)\n"
     ]
    },
    {
     "name": "stderr",
     "output_type": "stream",
     "text": [
      "INFO:counter:4/10 items complete (8.75 seconds/item, 00:00:52 remaining)\n"
     ]
    },
    {
     "name": "stdout",
     "output_type": "stream",
     "text": [
      "Cmode = False\n",
      "Number of time points is greater than the number of features\n",
      "Rstim shape (not cmode): \n",
      "(99319, 1957)\n",
      "Covmat shape: \n",
      "(1957, 1957)\n",
      "(1957, 1957) (1957, 99319) (99319, 64)\n"
     ]
    },
    {
     "name": "stderr",
     "output_type": "stream",
     "text": [
      "INFO:counter:5/10 items complete (8.70 seconds/item, 00:00:43 remaining)\n"
     ]
    },
    {
     "name": "stdout",
     "output_type": "stream",
     "text": [
      "Cmode = False\n",
      "Number of time points is greater than the number of features\n",
      "Rstim shape (not cmode): \n",
      "(99319, 1957)\n",
      "Covmat shape: \n",
      "(1957, 1957)\n",
      "(1957, 1957) (1957, 99319) (99319, 64)\n"
     ]
    },
    {
     "name": "stderr",
     "output_type": "stream",
     "text": [
      "INFO:counter:6/10 items complete (8.73 seconds/item, 00:00:34 remaining)\n"
     ]
    },
    {
     "name": "stdout",
     "output_type": "stream",
     "text": [
      "Cmode = False\n",
      "Number of time points is greater than the number of features\n",
      "Rstim shape (not cmode): \n",
      "(99319, 1957)\n",
      "Covmat shape: \n",
      "(1957, 1957)\n",
      "(1957, 1957) (1957, 99319) (99319, 64)\n"
     ]
    },
    {
     "name": "stderr",
     "output_type": "stream",
     "text": [
      "INFO:counter:7/10 items complete (8.68 seconds/item, 00:00:26 remaining)\n"
     ]
    },
    {
     "name": "stdout",
     "output_type": "stream",
     "text": [
      "Cmode = False\n",
      "Number of time points is greater than the number of features\n",
      "Rstim shape (not cmode): \n",
      "(99319, 1957)\n",
      "Covmat shape: \n",
      "(1957, 1957)\n",
      "(1957, 1957) (1957, 99319) (99319, 64)\n"
     ]
    },
    {
     "name": "stderr",
     "output_type": "stream",
     "text": [
      "INFO:counter:8/10 items complete (8.66 seconds/item, 00:00:17 remaining)\n"
     ]
    },
    {
     "name": "stdout",
     "output_type": "stream",
     "text": [
      "Cmode = False\n",
      "Number of time points is greater than the number of features\n",
      "Rstim shape (not cmode): \n",
      "(99319, 1957)\n",
      "Covmat shape: \n",
      "(1957, 1957)\n",
      "(1957, 1957) (1957, 99319) (99319, 64)\n"
     ]
    },
    {
     "name": "stderr",
     "output_type": "stream",
     "text": [
      "INFO:counter:9/10 items complete (8.72 seconds/item, 00:00:08 remaining)\n"
     ]
    },
    {
     "name": "stdout",
     "output_type": "stream",
     "text": [
      "Cmode = False\n",
      "Number of time points is greater than the number of features\n",
      "Rstim shape (not cmode): \n",
      "(99319, 1957)\n",
      "Covmat shape: \n",
      "(1957, 1957)\n",
      "(1957, 1957) (1957, 99319) (99319, 64)\n"
     ]
    },
    {
     "name": "stderr",
     "output_type": "stream",
     "text": [
      "INFO:counter:10/10 items complete (8.69 seconds/item, 00:00:00 remaining)\n"
     ]
    },
    {
     "name": "stdout",
     "output_type": "stream",
     "text": [
      "Cmode = False\n",
      "Number of time points is greater than the number of features\n",
      "stim shape (not cmode): \n",
      "(124039, 1957)\n",
      "Covmat shape: \n",
      "(1957, 1957)\n",
      "(1957, 1957) (1957, 124039) (124039, 64)\n",
      "wt shape:\n",
      "(1957, 64)\n",
      "(1957, 64)\n",
      "64 181218\n",
      "Cmode = False\n",
      "Number of time points is greater than the number of features\n",
      "Rstim shape (not cmode): \n",
      "(116134, 1957)\n",
      "Covmat shape: \n",
      "(1957, 1957)\n",
      "(1957, 1957) (1957, 116134) (116134, 64)\n"
     ]
    },
    {
     "name": "stderr",
     "output_type": "stream",
     "text": [
      "INFO:counter:1/10 items complete (11.06 seconds/item, 00:01:39 remaining)\n"
     ]
    },
    {
     "name": "stdout",
     "output_type": "stream",
     "text": [
      "Cmode = False\n",
      "Number of time points is greater than the number of features\n",
      "Rstim shape (not cmode): \n",
      "(116134, 1957)\n",
      "Covmat shape: \n",
      "(1957, 1957)\n",
      "(1957, 1957) (1957, 116134) (116134, 64)\n"
     ]
    },
    {
     "name": "stderr",
     "output_type": "stream",
     "text": [
      "INFO:counter:2/10 items complete (10.57 seconds/item, 00:01:24 remaining)\n"
     ]
    },
    {
     "name": "stdout",
     "output_type": "stream",
     "text": [
      "Cmode = False\n",
      "Number of time points is greater than the number of features\n",
      "Rstim shape (not cmode): \n",
      "(116134, 1957)\n",
      "Covmat shape: \n",
      "(1957, 1957)\n",
      "(1957, 1957) (1957, 116134) (116134, 64)\n"
     ]
    },
    {
     "name": "stderr",
     "output_type": "stream",
     "text": [
      "INFO:counter:3/10 items complete (10.41 seconds/item, 00:01:12 remaining)\n"
     ]
    },
    {
     "name": "stdout",
     "output_type": "stream",
     "text": [
      "Cmode = False\n",
      "Number of time points is greater than the number of features\n",
      "Rstim shape (not cmode): \n",
      "(116134, 1957)\n",
      "Covmat shape: \n",
      "(1957, 1957)\n",
      "(1957, 1957) (1957, 116134) (116134, 64)\n"
     ]
    },
    {
     "name": "stderr",
     "output_type": "stream",
     "text": [
      "INFO:counter:4/10 items complete (10.31 seconds/item, 00:01:01 remaining)\n"
     ]
    },
    {
     "name": "stdout",
     "output_type": "stream",
     "text": [
      "Cmode = False\n",
      "Number of time points is greater than the number of features\n",
      "Rstim shape (not cmode): \n",
      "(116134, 1957)\n",
      "Covmat shape: \n",
      "(1957, 1957)\n",
      "(1957, 1957) (1957, 116134) (116134, 64)\n"
     ]
    },
    {
     "name": "stderr",
     "output_type": "stream",
     "text": [
      "INFO:counter:5/10 items complete (10.18 seconds/item, 00:00:50 remaining)\n"
     ]
    },
    {
     "name": "stdout",
     "output_type": "stream",
     "text": [
      "Cmode = False\n",
      "Number of time points is greater than the number of features\n",
      "Rstim shape (not cmode): \n",
      "(116134, 1957)\n",
      "Covmat shape: \n",
      "(1957, 1957)\n",
      "(1957, 1957) (1957, 116134) (116134, 64)\n"
     ]
    },
    {
     "name": "stderr",
     "output_type": "stream",
     "text": [
      "INFO:counter:6/10 items complete (10.02 seconds/item, 00:00:40 remaining)\n"
     ]
    },
    {
     "name": "stdout",
     "output_type": "stream",
     "text": [
      "Cmode = False\n",
      "Number of time points is greater than the number of features\n",
      "Rstim shape (not cmode): \n",
      "(116134, 1957)\n",
      "Covmat shape: \n",
      "(1957, 1957)\n",
      "(1957, 1957) (1957, 116134) (116134, 64)\n"
     ]
    },
    {
     "name": "stderr",
     "output_type": "stream",
     "text": [
      "INFO:counter:7/10 items complete (9.97 seconds/item, 00:00:29 remaining)\n"
     ]
    },
    {
     "name": "stdout",
     "output_type": "stream",
     "text": [
      "Cmode = False\n",
      "Number of time points is greater than the number of features\n",
      "Rstim shape (not cmode): \n",
      "(116134, 1957)\n",
      "Covmat shape: \n",
      "(1957, 1957)\n",
      "(1957, 1957) (1957, 116134) (116134, 64)\n"
     ]
    },
    {
     "name": "stderr",
     "output_type": "stream",
     "text": [
      "INFO:counter:8/10 items complete (9.97 seconds/item, 00:00:19 remaining)\n"
     ]
    },
    {
     "name": "stdout",
     "output_type": "stream",
     "text": [
      "Cmode = False\n",
      "Number of time points is greater than the number of features\n",
      "Rstim shape (not cmode): \n",
      "(116134, 1957)\n",
      "Covmat shape: \n",
      "(1957, 1957)\n",
      "(1957, 1957) (1957, 116134) (116134, 64)\n"
     ]
    },
    {
     "name": "stderr",
     "output_type": "stream",
     "text": [
      "INFO:counter:9/10 items complete (9.93 seconds/item, 00:00:09 remaining)\n"
     ]
    },
    {
     "name": "stdout",
     "output_type": "stream",
     "text": [
      "Cmode = False\n",
      "Number of time points is greater than the number of features\n",
      "Rstim shape (not cmode): \n",
      "(116134, 1957)\n",
      "Covmat shape: \n",
      "(1957, 1957)\n",
      "(1957, 1957) (1957, 116134) (116134, 64)\n"
     ]
    },
    {
     "name": "stderr",
     "output_type": "stream",
     "text": [
      "INFO:counter:10/10 items complete (9.90 seconds/item, 00:00:00 remaining)\n"
     ]
    },
    {
     "name": "stdout",
     "output_type": "stream",
     "text": [
      "Cmode = False\n",
      "Number of time points is greater than the number of features\n",
      "stim shape (not cmode): \n",
      "(144974, 1957)\n",
      "Covmat shape: \n",
      "(1957, 1957)\n",
      "(1957, 1957) (1957, 144974) (144974, 64)\n",
      "wt shape:\n",
      "(1957, 64)\n",
      "(1957, 64)\n",
      "63 203420\n",
      "Cmode = False\n",
      "Number of time points is greater than the number of features\n",
      "Rstim shape (not cmode): \n",
      "(130600, 1957)\n",
      "Covmat shape: \n",
      "(1957, 1957)\n",
      "(1957, 1957) (1957, 130600) (130600, 63)\n"
     ]
    },
    {
     "name": "stderr",
     "output_type": "stream",
     "text": [
      "INFO:counter:1/10 items complete (12.45 seconds/item, 00:01:52 remaining)\n"
     ]
    },
    {
     "name": "stdout",
     "output_type": "stream",
     "text": [
      "Cmode = False\n",
      "Number of time points is greater than the number of features\n",
      "Rstim shape (not cmode): \n",
      "(130600, 1957)\n",
      "Covmat shape: \n",
      "(1957, 1957)\n",
      "(1957, 1957) (1957, 130600) (130600, 63)\n"
     ]
    },
    {
     "name": "stderr",
     "output_type": "stream",
     "text": [
      "INFO:counter:2/10 items complete (12.08 seconds/item, 00:01:36 remaining)\n"
     ]
    },
    {
     "name": "stdout",
     "output_type": "stream",
     "text": [
      "Cmode = False\n",
      "Number of time points is greater than the number of features\n",
      "Rstim shape (not cmode): \n",
      "(130600, 1957)\n",
      "Covmat shape: \n",
      "(1957, 1957)\n",
      "(1957, 1957) (1957, 130600) (130600, 63)\n"
     ]
    },
    {
     "name": "stderr",
     "output_type": "stream",
     "text": [
      "INFO:counter:3/10 items complete (11.90 seconds/item, 00:01:23 remaining)\n"
     ]
    },
    {
     "name": "stdout",
     "output_type": "stream",
     "text": [
      "Cmode = False\n",
      "Number of time points is greater than the number of features\n",
      "Rstim shape (not cmode): \n",
      "(130600, 1957)\n",
      "Covmat shape: \n",
      "(1957, 1957)\n",
      "(1957, 1957) (1957, 130600) (130600, 63)\n"
     ]
    },
    {
     "name": "stderr",
     "output_type": "stream",
     "text": [
      "INFO:counter:4/10 items complete (11.75 seconds/item, 00:01:10 remaining)\n"
     ]
    },
    {
     "name": "stdout",
     "output_type": "stream",
     "text": [
      "Cmode = False\n",
      "Number of time points is greater than the number of features\n",
      "Rstim shape (not cmode): \n",
      "(130600, 1957)\n",
      "Covmat shape: \n",
      "(1957, 1957)\n",
      "(1957, 1957) (1957, 130600) (130600, 63)\n"
     ]
    },
    {
     "name": "stderr",
     "output_type": "stream",
     "text": [
      "INFO:counter:5/10 items complete (11.57 seconds/item, 00:00:57 remaining)\n"
     ]
    },
    {
     "name": "stdout",
     "output_type": "stream",
     "text": [
      "Cmode = False\n",
      "Number of time points is greater than the number of features\n",
      "Rstim shape (not cmode): \n",
      "(130600, 1957)\n",
      "Covmat shape: \n",
      "(1957, 1957)\n",
      "(1957, 1957) (1957, 130600) (130600, 63)\n"
     ]
    },
    {
     "name": "stderr",
     "output_type": "stream",
     "text": [
      "INFO:counter:6/10 items complete (11.43 seconds/item, 00:00:45 remaining)\n"
     ]
    },
    {
     "name": "stdout",
     "output_type": "stream",
     "text": [
      "Cmode = False\n",
      "Number of time points is greater than the number of features\n",
      "Rstim shape (not cmode): \n",
      "(130600, 1957)\n",
      "Covmat shape: \n",
      "(1957, 1957)\n",
      "(1957, 1957) (1957, 130600) (130600, 63)\n"
     ]
    },
    {
     "name": "stderr",
     "output_type": "stream",
     "text": [
      "INFO:counter:7/10 items complete (11.29 seconds/item, 00:00:33 remaining)\n"
     ]
    },
    {
     "name": "stdout",
     "output_type": "stream",
     "text": [
      "Cmode = False\n",
      "Number of time points is greater than the number of features\n",
      "Rstim shape (not cmode): \n",
      "(130600, 1957)\n",
      "Covmat shape: \n",
      "(1957, 1957)\n",
      "(1957, 1957) (1957, 130600) (130600, 63)\n"
     ]
    },
    {
     "name": "stderr",
     "output_type": "stream",
     "text": [
      "INFO:counter:8/10 items complete (11.23 seconds/item, 00:00:22 remaining)\n"
     ]
    },
    {
     "name": "stdout",
     "output_type": "stream",
     "text": [
      "Cmode = False\n",
      "Number of time points is greater than the number of features\n",
      "Rstim shape (not cmode): \n",
      "(130600, 1957)\n",
      "Covmat shape: \n",
      "(1957, 1957)\n",
      "(1957, 1957) (1957, 130600) (130600, 63)\n"
     ]
    },
    {
     "name": "stderr",
     "output_type": "stream",
     "text": [
      "INFO:counter:9/10 items complete (11.17 seconds/item, 00:00:11 remaining)\n"
     ]
    },
    {
     "name": "stdout",
     "output_type": "stream",
     "text": [
      "Cmode = False\n",
      "Number of time points is greater than the number of features\n",
      "Rstim shape (not cmode): \n",
      "(130600, 1957)\n",
      "Covmat shape: \n",
      "(1957, 1957)\n",
      "(1957, 1957) (1957, 130600) (130600, 63)\n"
     ]
    },
    {
     "name": "stderr",
     "output_type": "stream",
     "text": [
      "INFO:counter:10/10 items complete (11.14 seconds/item, 00:00:00 remaining)\n"
     ]
    },
    {
     "name": "stdout",
     "output_type": "stream",
     "text": [
      "Cmode = False\n",
      "Number of time points is greater than the number of features\n",
      "stim shape (not cmode): \n",
      "(162736, 1957)\n",
      "Covmat shape: \n",
      "(1957, 1957)\n",
      "(1957, 1957) (1957, 162736) (162736, 63)\n",
      "wt shape:\n",
      "(1957, 63)\n",
      "(1957, 63)\n",
      "63 35160\n",
      "Cmode = False\n",
      "Number of time points is greater than the number of features\n",
      "Rstim shape (not cmode): \n",
      "(22772, 1957)\n",
      "Covmat shape: \n",
      "(1957, 1957)\n",
      "(1957, 1957) (1957, 22772) (22772, 63)\n"
     ]
    },
    {
     "name": "stderr",
     "output_type": "stream",
     "text": [
      "INFO:counter:1/10 items complete (1.96 seconds/item, 00:00:17 remaining)\n"
     ]
    },
    {
     "name": "stdout",
     "output_type": "stream",
     "text": [
      "Cmode = False\n",
      "Number of time points is greater than the number of features\n",
      "Rstim shape (not cmode): \n",
      "(22772, 1957)\n",
      "Covmat shape: \n",
      "(1957, 1957)\n",
      "(1957, 1957) (1957, 22772) (22772, 63)\n"
     ]
    },
    {
     "name": "stderr",
     "output_type": "stream",
     "text": [
      "/home/kfsh/git/onsetProd/gkTools/strf/ridge.py:370: RuntimeWarning: divide by zero encountered in true_divide\n",
      "  D = 1 / (L + a) # This is for eigridge\n",
      "/home/kfsh/git/onsetProd/gkTools/strf/utils.py:186: RuntimeWarning: invalid value encountered in multiply\n",
      "  return d*mtx\n",
      "INFO:counter:2/10 items complete (1.95 seconds/item, 00:00:15 remaining)\n"
     ]
    },
    {
     "name": "stdout",
     "output_type": "stream",
     "text": [
      "Cmode = False\n",
      "Number of time points is greater than the number of features\n",
      "Rstim shape (not cmode): \n",
      "(22772, 1957)\n",
      "Covmat shape: \n",
      "(1957, 1957)\n",
      "(1957, 1957) (1957, 22772) (22772, 63)\n"
     ]
    },
    {
     "name": "stderr",
     "output_type": "stream",
     "text": [
      "INFO:counter:3/10 items complete (1.94 seconds/item, 00:00:13 remaining)\n"
     ]
    },
    {
     "name": "stdout",
     "output_type": "stream",
     "text": [
      "Cmode = False\n",
      "Number of time points is greater than the number of features\n",
      "Rstim shape (not cmode): \n",
      "(22772, 1957)\n",
      "Covmat shape: \n",
      "(1957, 1957)\n",
      "(1957, 1957) (1957, 22772) (22772, 63)\n"
     ]
    },
    {
     "name": "stderr",
     "output_type": "stream",
     "text": [
      "INFO:counter:4/10 items complete (1.94 seconds/item, 00:00:11 remaining)\n"
     ]
    },
    {
     "name": "stdout",
     "output_type": "stream",
     "text": [
      "Cmode = False\n",
      "Number of time points is greater than the number of features\n",
      "Rstim shape (not cmode): \n",
      "(22772, 1957)\n",
      "Covmat shape: \n",
      "(1957, 1957)\n",
      "(1957, 1957) (1957, 22772) (22772, 63)\n"
     ]
    },
    {
     "name": "stderr",
     "output_type": "stream",
     "text": [
      "INFO:counter:5/10 items complete (1.96 seconds/item, 00:00:09 remaining)\n"
     ]
    },
    {
     "name": "stdout",
     "output_type": "stream",
     "text": [
      "Cmode = False\n",
      "Number of time points is greater than the number of features\n",
      "Rstim shape (not cmode): \n",
      "(22772, 1957)\n",
      "Covmat shape: \n",
      "(1957, 1957)\n",
      "(1957, 1957) (1957, 22772) (22772, 63)\n"
     ]
    },
    {
     "name": "stderr",
     "output_type": "stream",
     "text": [
      "INFO:counter:6/10 items complete (1.96 seconds/item, 00:00:07 remaining)\n"
     ]
    },
    {
     "name": "stdout",
     "output_type": "stream",
     "text": [
      "Cmode = False\n",
      "Number of time points is greater than the number of features\n",
      "Rstim shape (not cmode): \n",
      "(22772, 1957)\n",
      "Covmat shape: \n",
      "(1957, 1957)\n",
      "(1957, 1957) (1957, 22772) (22772, 63)\n"
     ]
    },
    {
     "name": "stderr",
     "output_type": "stream",
     "text": [
      "INFO:counter:7/10 items complete (1.96 seconds/item, 00:00:05 remaining)\n"
     ]
    },
    {
     "name": "stdout",
     "output_type": "stream",
     "text": [
      "Cmode = False\n",
      "Number of time points is greater than the number of features\n",
      "Rstim shape (not cmode): \n",
      "(22772, 1957)\n",
      "Covmat shape: \n",
      "(1957, 1957)\n",
      "(1957, 1957) (1957, 22772) (22772, 63)\n"
     ]
    },
    {
     "name": "stderr",
     "output_type": "stream",
     "text": [
      "INFO:counter:8/10 items complete (1.96 seconds/item, 00:00:03 remaining)\n"
     ]
    },
    {
     "name": "stdout",
     "output_type": "stream",
     "text": [
      "Cmode = False\n",
      "Number of time points is greater than the number of features\n",
      "Rstim shape (not cmode): \n",
      "(22772, 1957)\n",
      "Covmat shape: \n",
      "(1957, 1957)\n",
      "(1957, 1957) (1957, 22772) (22772, 63)\n"
     ]
    },
    {
     "name": "stderr",
     "output_type": "stream",
     "text": [
      "INFO:counter:9/10 items complete (1.95 seconds/item, 00:00:01 remaining)\n"
     ]
    },
    {
     "name": "stdout",
     "output_type": "stream",
     "text": [
      "Cmode = False\n",
      "Number of time points is greater than the number of features\n",
      "Rstim shape (not cmode): \n",
      "(22772, 1957)\n",
      "Covmat shape: \n",
      "(1957, 1957)\n",
      "(1957, 1957) (1957, 22772) (22772, 63)\n"
     ]
    },
    {
     "name": "stderr",
     "output_type": "stream",
     "text": [
      "INFO:counter:10/10 items complete (1.95 seconds/item, 00:00:00 remaining)\n"
     ]
    },
    {
     "name": "stdout",
     "output_type": "stream",
     "text": [
      "Cmode = False\n",
      "Number of time points is greater than the number of features\n",
      "stim shape (not cmode): \n",
      "(28128, 1957)\n",
      "Covmat shape: \n",
      "(1957, 1957)\n",
      "(1957, 1957) (1957, 28128) (28128, 63)\n",
      "wt shape:\n",
      "(1957, 63)\n",
      "(1957, 63)\n",
      "60 78898\n",
      "Cmode = False\n",
      "Number of time points is greater than the number of features\n",
      "Rstim shape (not cmode): \n",
      "(50758, 1957)\n",
      "Covmat shape: \n",
      "(1957, 1957)\n",
      "(1957, 1957) (1957, 50758) (50758, 60)\n"
     ]
    },
    {
     "name": "stderr",
     "output_type": "stream",
     "text": [
      "INFO:counter:1/10 items complete (4.04 seconds/item, 00:00:36 remaining)\n"
     ]
    },
    {
     "name": "stdout",
     "output_type": "stream",
     "text": [
      "Cmode = False\n",
      "Number of time points is greater than the number of features\n",
      "Rstim shape (not cmode): \n",
      "(50758, 1957)\n",
      "Covmat shape: \n",
      "(1957, 1957)\n",
      "(1957, 1957) (1957, 50758) (50758, 60)\n"
     ]
    },
    {
     "name": "stderr",
     "output_type": "stream",
     "text": [
      "INFO:counter:2/10 items complete (4.03 seconds/item, 00:00:32 remaining)\n"
     ]
    },
    {
     "name": "stdout",
     "output_type": "stream",
     "text": [
      "Cmode = False\n",
      "Number of time points is greater than the number of features\n",
      "Rstim shape (not cmode): \n",
      "(50758, 1957)\n",
      "Covmat shape: \n",
      "(1957, 1957)\n",
      "(1957, 1957) (1957, 50758) (50758, 60)\n"
     ]
    },
    {
     "name": "stderr",
     "output_type": "stream",
     "text": [
      "INFO:counter:3/10 items complete (4.03 seconds/item, 00:00:28 remaining)\n"
     ]
    },
    {
     "name": "stdout",
     "output_type": "stream",
     "text": [
      "Cmode = False\n",
      "Number of time points is greater than the number of features\n",
      "Rstim shape (not cmode): \n",
      "(50758, 1957)\n",
      "Covmat shape: \n",
      "(1957, 1957)\n",
      "(1957, 1957) (1957, 50758) (50758, 60)\n"
     ]
    },
    {
     "name": "stderr",
     "output_type": "stream",
     "text": [
      "INFO:counter:4/10 items complete (4.03 seconds/item, 00:00:24 remaining)\n"
     ]
    },
    {
     "name": "stdout",
     "output_type": "stream",
     "text": [
      "Cmode = False\n",
      "Number of time points is greater than the number of features\n",
      "Rstim shape (not cmode): \n",
      "(50758, 1957)\n",
      "Covmat shape: \n",
      "(1957, 1957)\n",
      "(1957, 1957) (1957, 50758) (50758, 60)\n"
     ]
    },
    {
     "name": "stderr",
     "output_type": "stream",
     "text": [
      "INFO:counter:5/10 items complete (4.05 seconds/item, 00:00:20 remaining)\n"
     ]
    },
    {
     "name": "stdout",
     "output_type": "stream",
     "text": [
      "Cmode = False\n",
      "Number of time points is greater than the number of features\n",
      "Rstim shape (not cmode): \n",
      "(50758, 1957)\n",
      "Covmat shape: \n",
      "(1957, 1957)\n",
      "(1957, 1957) (1957, 50758) (50758, 60)\n"
     ]
    },
    {
     "name": "stderr",
     "output_type": "stream",
     "text": [
      "INFO:counter:6/10 items complete (4.07 seconds/item, 00:00:16 remaining)\n"
     ]
    },
    {
     "name": "stdout",
     "output_type": "stream",
     "text": [
      "Cmode = False\n",
      "Number of time points is greater than the number of features\n",
      "Rstim shape (not cmode): \n",
      "(50758, 1957)\n",
      "Covmat shape: \n",
      "(1957, 1957)\n",
      "(1957, 1957) (1957, 50758) (50758, 60)\n"
     ]
    },
    {
     "name": "stderr",
     "output_type": "stream",
     "text": [
      "INFO:counter:7/10 items complete (4.14 seconds/item, 00:00:12 remaining)\n"
     ]
    },
    {
     "name": "stdout",
     "output_type": "stream",
     "text": [
      "Cmode = False\n",
      "Number of time points is greater than the number of features\n",
      "Rstim shape (not cmode): \n",
      "(50758, 1957)\n",
      "Covmat shape: \n",
      "(1957, 1957)\n",
      "(1957, 1957) (1957, 50758) (50758, 60)\n"
     ]
    },
    {
     "name": "stderr",
     "output_type": "stream",
     "text": [
      "INFO:counter:8/10 items complete (4.13 seconds/item, 00:00:08 remaining)\n"
     ]
    },
    {
     "name": "stdout",
     "output_type": "stream",
     "text": [
      "Cmode = False\n",
      "Number of time points is greater than the number of features\n",
      "Rstim shape (not cmode): \n",
      "(50758, 1957)\n",
      "Covmat shape: \n",
      "(1957, 1957)\n",
      "(1957, 1957) (1957, 50758) (50758, 60)\n"
     ]
    },
    {
     "name": "stderr",
     "output_type": "stream",
     "text": [
      "INFO:counter:9/10 items complete (4.13 seconds/item, 00:00:04 remaining)\n"
     ]
    },
    {
     "name": "stdout",
     "output_type": "stream",
     "text": [
      "Cmode = False\n",
      "Number of time points is greater than the number of features\n",
      "Rstim shape (not cmode): \n",
      "(50758, 1957)\n",
      "Covmat shape: \n",
      "(1957, 1957)\n",
      "(1957, 1957) (1957, 50758) (50758, 60)\n"
     ]
    },
    {
     "name": "stderr",
     "output_type": "stream",
     "text": [
      "INFO:counter:10/10 items complete (4.12 seconds/item, 00:00:00 remaining)\n"
     ]
    },
    {
     "name": "stdout",
     "output_type": "stream",
     "text": [
      "Cmode = False\n",
      "Number of time points is greater than the number of features\n",
      "stim shape (not cmode): \n",
      "(63118, 1957)\n",
      "Covmat shape: \n",
      "(1957, 1957)\n",
      "(1957, 1957) (1957, 63118) (63118, 60)\n",
      "wt shape:\n",
      "(1957, 60)\n",
      "(1957, 60)\n",
      "62 149845\n",
      "Cmode = False\n",
      "Number of time points is greater than the number of features\n",
      "Rstim shape (not cmode): \n",
      "(95980, 1957)\n",
      "Covmat shape: \n",
      "(1957, 1957)\n",
      "(1957, 1957) (1957, 95980) (95980, 62)\n"
     ]
    },
    {
     "name": "stderr",
     "output_type": "stream",
     "text": [
      "INFO:counter:1/10 items complete (8.77 seconds/item, 00:01:18 remaining)\n"
     ]
    },
    {
     "name": "stdout",
     "output_type": "stream",
     "text": [
      "Cmode = False\n",
      "Number of time points is greater than the number of features\n",
      "Rstim shape (not cmode): \n",
      "(95980, 1957)\n",
      "Covmat shape: \n",
      "(1957, 1957)\n",
      "(1957, 1957) (1957, 95980) (95980, 62)\n"
     ]
    },
    {
     "name": "stderr",
     "output_type": "stream",
     "text": [
      "INFO:counter:2/10 items complete (8.54 seconds/item, 00:01:08 remaining)\n"
     ]
    },
    {
     "name": "stdout",
     "output_type": "stream",
     "text": [
      "Cmode = False\n",
      "Number of time points is greater than the number of features\n",
      "Rstim shape (not cmode): \n",
      "(95980, 1957)\n",
      "Covmat shape: \n",
      "(1957, 1957)\n",
      "(1957, 1957) (1957, 95980) (95980, 62)\n"
     ]
    },
    {
     "name": "stderr",
     "output_type": "stream",
     "text": [
      "INFO:counter:3/10 items complete (8.23 seconds/item, 00:00:57 remaining)\n"
     ]
    },
    {
     "name": "stdout",
     "output_type": "stream",
     "text": [
      "Cmode = False\n",
      "Number of time points is greater than the number of features\n",
      "Rstim shape (not cmode): \n",
      "(95980, 1957)\n",
      "Covmat shape: \n",
      "(1957, 1957)\n",
      "(1957, 1957) (1957, 95980) (95980, 62)\n"
     ]
    },
    {
     "name": "stderr",
     "output_type": "stream",
     "text": [
      "INFO:counter:4/10 items complete (8.22 seconds/item, 00:00:49 remaining)\n"
     ]
    },
    {
     "name": "stdout",
     "output_type": "stream",
     "text": [
      "Cmode = False\n",
      "Number of time points is greater than the number of features\n",
      "Rstim shape (not cmode): \n",
      "(95980, 1957)\n",
      "Covmat shape: \n",
      "(1957, 1957)\n",
      "(1957, 1957) (1957, 95980) (95980, 62)\n"
     ]
    },
    {
     "name": "stderr",
     "output_type": "stream",
     "text": [
      "INFO:counter:5/10 items complete (8.14 seconds/item, 00:00:40 remaining)\n"
     ]
    },
    {
     "name": "stdout",
     "output_type": "stream",
     "text": [
      "Cmode = False\n",
      "Number of time points is greater than the number of features\n",
      "Rstim shape (not cmode): \n",
      "(95980, 1957)\n",
      "Covmat shape: \n",
      "(1957, 1957)\n",
      "(1957, 1957) (1957, 95980) (95980, 62)\n"
     ]
    },
    {
     "name": "stderr",
     "output_type": "stream",
     "text": [
      "INFO:counter:6/10 items complete (8.14 seconds/item, 00:00:32 remaining)\n"
     ]
    },
    {
     "name": "stdout",
     "output_type": "stream",
     "text": [
      "Cmode = False\n",
      "Number of time points is greater than the number of features\n",
      "Rstim shape (not cmode): \n",
      "(95980, 1957)\n",
      "Covmat shape: \n",
      "(1957, 1957)\n",
      "(1957, 1957) (1957, 95980) (95980, 62)\n"
     ]
    },
    {
     "name": "stderr",
     "output_type": "stream",
     "text": [
      "INFO:counter:7/10 items complete (8.11 seconds/item, 00:00:24 remaining)\n"
     ]
    },
    {
     "name": "stdout",
     "output_type": "stream",
     "text": [
      "Cmode = False\n",
      "Number of time points is greater than the number of features\n",
      "Rstim shape (not cmode): \n",
      "(95980, 1957)\n",
      "Covmat shape: \n",
      "(1957, 1957)\n",
      "(1957, 1957) (1957, 95980) (95980, 62)\n"
     ]
    },
    {
     "name": "stderr",
     "output_type": "stream",
     "text": [
      "INFO:counter:8/10 items complete (8.09 seconds/item, 00:00:16 remaining)\n"
     ]
    },
    {
     "name": "stdout",
     "output_type": "stream",
     "text": [
      "Cmode = False\n",
      "Number of time points is greater than the number of features\n",
      "Rstim shape (not cmode): \n",
      "(95980, 1957)\n",
      "Covmat shape: \n",
      "(1957, 1957)\n",
      "(1957, 1957) (1957, 95980) (95980, 62)\n"
     ]
    },
    {
     "name": "stderr",
     "output_type": "stream",
     "text": [
      "INFO:counter:9/10 items complete (8.08 seconds/item, 00:00:08 remaining)\n"
     ]
    },
    {
     "name": "stdout",
     "output_type": "stream",
     "text": [
      "Cmode = False\n",
      "Number of time points is greater than the number of features\n",
      "Rstim shape (not cmode): \n",
      "(95980, 1957)\n",
      "Covmat shape: \n",
      "(1957, 1957)\n",
      "(1957, 1957) (1957, 95980) (95980, 62)\n"
     ]
    },
    {
     "name": "stderr",
     "output_type": "stream",
     "text": [
      "INFO:counter:10/10 items complete (8.06 seconds/item, 00:00:00 remaining)\n"
     ]
    },
    {
     "name": "stdout",
     "output_type": "stream",
     "text": [
      "Cmode = False\n",
      "Number of time points is greater than the number of features\n",
      "stim shape (not cmode): \n",
      "(119876, 1957)\n",
      "Covmat shape: \n",
      "(1957, 1957)\n",
      "(1957, 1957) (1957, 119876) (119876, 62)\n",
      "wt shape:\n",
      "(1957, 62)\n",
      "(1957, 62)\n",
      "64 172776\n",
      "Cmode = False\n",
      "Number of time points is greater than the number of features\n",
      "Rstim shape (not cmode): \n",
      "(110616, 1957)\n",
      "Covmat shape: \n",
      "(1957, 1957)\n",
      "(1957, 1957) (1957, 110616) (110616, 64)\n"
     ]
    },
    {
     "name": "stderr",
     "output_type": "stream",
     "text": [
      "INFO:counter:1/10 items complete (9.71 seconds/item, 00:01:27 remaining)\n"
     ]
    },
    {
     "name": "stdout",
     "output_type": "stream",
     "text": [
      "Cmode = False\n",
      "Number of time points is greater than the number of features\n",
      "Rstim shape (not cmode): \n",
      "(110616, 1957)\n",
      "Covmat shape: \n",
      "(1957, 1957)\n",
      "(1957, 1957) (1957, 110616) (110616, 64)\n"
     ]
    },
    {
     "name": "stderr",
     "output_type": "stream",
     "text": [
      "INFO:counter:2/10 items complete (9.49 seconds/item, 00:01:15 remaining)\n"
     ]
    },
    {
     "name": "stdout",
     "output_type": "stream",
     "text": [
      "Cmode = False\n",
      "Number of time points is greater than the number of features\n",
      "Rstim shape (not cmode): \n",
      "(110616, 1957)\n",
      "Covmat shape: \n",
      "(1957, 1957)\n",
      "(1957, 1957) (1957, 110616) (110616, 64)\n"
     ]
    },
    {
     "name": "stderr",
     "output_type": "stream",
     "text": [
      "INFO:counter:3/10 items complete (9.34 seconds/item, 00:01:05 remaining)\n"
     ]
    },
    {
     "name": "stdout",
     "output_type": "stream",
     "text": [
      "Cmode = False\n",
      "Number of time points is greater than the number of features\n",
      "Rstim shape (not cmode): \n",
      "(110616, 1957)\n",
      "Covmat shape: \n",
      "(1957, 1957)\n",
      "(1957, 1957) (1957, 110616) (110616, 64)\n"
     ]
    },
    {
     "name": "stderr",
     "output_type": "stream",
     "text": [
      "INFO:counter:4/10 items complete (9.34 seconds/item, 00:00:56 remaining)\n"
     ]
    },
    {
     "name": "stdout",
     "output_type": "stream",
     "text": [
      "Cmode = False\n",
      "Number of time points is greater than the number of features\n",
      "Rstim shape (not cmode): \n",
      "(110616, 1957)\n",
      "Covmat shape: \n",
      "(1957, 1957)\n",
      "(1957, 1957) (1957, 110616) (110616, 64)\n"
     ]
    },
    {
     "name": "stderr",
     "output_type": "stream",
     "text": [
      "INFO:counter:5/10 items complete (9.32 seconds/item, 00:00:46 remaining)\n"
     ]
    },
    {
     "name": "stdout",
     "output_type": "stream",
     "text": [
      "Cmode = False\n",
      "Number of time points is greater than the number of features\n",
      "Rstim shape (not cmode): \n",
      "(110616, 1957)\n",
      "Covmat shape: \n",
      "(1957, 1957)\n",
      "(1957, 1957) (1957, 110616) (110616, 64)\n"
     ]
    },
    {
     "name": "stderr",
     "output_type": "stream",
     "text": [
      "INFO:counter:6/10 items complete (9.29 seconds/item, 00:00:37 remaining)\n"
     ]
    },
    {
     "name": "stdout",
     "output_type": "stream",
     "text": [
      "Cmode = False\n",
      "Number of time points is greater than the number of features\n",
      "Rstim shape (not cmode): \n",
      "(110616, 1957)\n",
      "Covmat shape: \n",
      "(1957, 1957)\n",
      "(1957, 1957) (1957, 110616) (110616, 64)\n"
     ]
    },
    {
     "name": "stderr",
     "output_type": "stream",
     "text": [
      "INFO:counter:7/10 items complete (9.28 seconds/item, 00:00:27 remaining)\n"
     ]
    },
    {
     "name": "stdout",
     "output_type": "stream",
     "text": [
      "Cmode = False\n",
      "Number of time points is greater than the number of features\n",
      "Rstim shape (not cmode): \n",
      "(110616, 1957)\n",
      "Covmat shape: \n",
      "(1957, 1957)\n",
      "(1957, 1957) (1957, 110616) (110616, 64)\n"
     ]
    },
    {
     "name": "stderr",
     "output_type": "stream",
     "text": [
      "INFO:counter:8/10 items complete (9.26 seconds/item, 00:00:18 remaining)\n"
     ]
    },
    {
     "name": "stdout",
     "output_type": "stream",
     "text": [
      "Cmode = False\n",
      "Number of time points is greater than the number of features\n",
      "Rstim shape (not cmode): \n",
      "(110616, 1957)\n",
      "Covmat shape: \n",
      "(1957, 1957)\n",
      "(1957, 1957) (1957, 110616) (110616, 64)\n"
     ]
    },
    {
     "name": "stderr",
     "output_type": "stream",
     "text": [
      "INFO:counter:9/10 items complete (9.25 seconds/item, 00:00:09 remaining)\n"
     ]
    },
    {
     "name": "stdout",
     "output_type": "stream",
     "text": [
      "Cmode = False\n",
      "Number of time points is greater than the number of features\n",
      "Rstim shape (not cmode): \n",
      "(110616, 1957)\n",
      "Covmat shape: \n",
      "(1957, 1957)\n",
      "(1957, 1957) (1957, 110616) (110616, 64)\n"
     ]
    },
    {
     "name": "stderr",
     "output_type": "stream",
     "text": [
      "INFO:counter:10/10 items complete (9.23 seconds/item, 00:00:00 remaining)\n"
     ]
    },
    {
     "name": "stdout",
     "output_type": "stream",
     "text": [
      "Cmode = False\n",
      "Number of time points is greater than the number of features\n",
      "stim shape (not cmode): \n",
      "(138220, 1957)\n",
      "Covmat shape: \n",
      "(1957, 1957)\n",
      "(1957, 1957) (1957, 138220) (138220, 64)\n",
      "wt shape:\n",
      "(1957, 64)\n",
      "(1957, 64)\n",
      "63 143736\n",
      "Cmode = False\n",
      "Number of time points is greater than the number of features\n",
      "Rstim shape (not cmode): \n",
      "(92328, 1957)\n",
      "Covmat shape: \n",
      "(1957, 1957)\n",
      "(1957, 1957) (1957, 92328) (92328, 63)\n"
     ]
    },
    {
     "name": "stderr",
     "output_type": "stream",
     "text": [
      "INFO:counter:1/10 items complete (8.19 seconds/item, 00:01:13 remaining)\n"
     ]
    },
    {
     "name": "stdout",
     "output_type": "stream",
     "text": [
      "Cmode = False\n",
      "Number of time points is greater than the number of features\n",
      "Rstim shape (not cmode): \n",
      "(92328, 1957)\n",
      "Covmat shape: \n",
      "(1957, 1957)\n",
      "(1957, 1957) (1957, 92328) (92328, 63)\n"
     ]
    },
    {
     "name": "stderr",
     "output_type": "stream",
     "text": [
      "INFO:counter:2/10 items complete (8.18 seconds/item, 00:01:05 remaining)\n"
     ]
    },
    {
     "name": "stdout",
     "output_type": "stream",
     "text": [
      "Cmode = False\n",
      "Number of time points is greater than the number of features\n",
      "Rstim shape (not cmode): \n",
      "(92328, 1957)\n",
      "Covmat shape: \n",
      "(1957, 1957)\n",
      "(1957, 1957) (1957, 92328) (92328, 63)\n"
     ]
    },
    {
     "name": "stderr",
     "output_type": "stream",
     "text": [
      "INFO:counter:3/10 items complete (8.32 seconds/item, 00:00:58 remaining)\n"
     ]
    },
    {
     "name": "stdout",
     "output_type": "stream",
     "text": [
      "Cmode = False\n",
      "Number of time points is greater than the number of features\n",
      "Rstim shape (not cmode): \n",
      "(92328, 1957)\n",
      "Covmat shape: \n",
      "(1957, 1957)\n",
      "(1957, 1957) (1957, 92328) (92328, 63)\n"
     ]
    },
    {
     "name": "stderr",
     "output_type": "stream",
     "text": [
      "INFO:counter:4/10 items complete (8.17 seconds/item, 00:00:48 remaining)\n"
     ]
    },
    {
     "name": "stdout",
     "output_type": "stream",
     "text": [
      "Cmode = False\n",
      "Number of time points is greater than the number of features\n",
      "Rstim shape (not cmode): \n",
      "(92328, 1957)\n",
      "Covmat shape: \n",
      "(1957, 1957)\n",
      "(1957, 1957) (1957, 92328) (92328, 63)\n"
     ]
    },
    {
     "name": "stderr",
     "output_type": "stream",
     "text": [
      "INFO:counter:5/10 items complete (8.01 seconds/item, 00:00:40 remaining)\n"
     ]
    },
    {
     "name": "stdout",
     "output_type": "stream",
     "text": [
      "Cmode = False\n",
      "Number of time points is greater than the number of features\n",
      "Rstim shape (not cmode): \n",
      "(92328, 1957)\n",
      "Covmat shape: \n",
      "(1957, 1957)\n",
      "(1957, 1957) (1957, 92328) (92328, 63)\n"
     ]
    },
    {
     "name": "stderr",
     "output_type": "stream",
     "text": [
      "INFO:counter:6/10 items complete (7.96 seconds/item, 00:00:31 remaining)\n"
     ]
    },
    {
     "name": "stdout",
     "output_type": "stream",
     "text": [
      "Cmode = False\n",
      "Number of time points is greater than the number of features\n",
      "Rstim shape (not cmode): \n",
      "(92328, 1957)\n",
      "Covmat shape: \n",
      "(1957, 1957)\n",
      "(1957, 1957) (1957, 92328) (92328, 63)\n"
     ]
    },
    {
     "name": "stderr",
     "output_type": "stream",
     "text": [
      "INFO:counter:7/10 items complete (7.90 seconds/item, 00:00:23 remaining)\n"
     ]
    },
    {
     "name": "stdout",
     "output_type": "stream",
     "text": [
      "Cmode = False\n",
      "Number of time points is greater than the number of features\n",
      "Rstim shape (not cmode): \n",
      "(92328, 1957)\n",
      "Covmat shape: \n",
      "(1957, 1957)\n",
      "(1957, 1957) (1957, 92328) (92328, 63)\n"
     ]
    },
    {
     "name": "stderr",
     "output_type": "stream",
     "text": [
      "INFO:counter:8/10 items complete (7.88 seconds/item, 00:00:15 remaining)\n"
     ]
    },
    {
     "name": "stdout",
     "output_type": "stream",
     "text": [
      "Cmode = False\n",
      "Number of time points is greater than the number of features\n",
      "Rstim shape (not cmode): \n",
      "(92328, 1957)\n",
      "Covmat shape: \n",
      "(1957, 1957)\n",
      "(1957, 1957) (1957, 92328) (92328, 63)\n"
     ]
    },
    {
     "name": "stderr",
     "output_type": "stream",
     "text": [
      "INFO:counter:9/10 items complete (7.84 seconds/item, 00:00:07 remaining)\n"
     ]
    },
    {
     "name": "stdout",
     "output_type": "stream",
     "text": [
      "Cmode = False\n",
      "Number of time points is greater than the number of features\n",
      "Rstim shape (not cmode): \n",
      "(92328, 1957)\n",
      "Covmat shape: \n",
      "(1957, 1957)\n",
      "(1957, 1957) (1957, 92328) (92328, 63)\n"
     ]
    },
    {
     "name": "stderr",
     "output_type": "stream",
     "text": [
      "INFO:counter:10/10 items complete (7.78 seconds/item, 00:00:00 remaining)\n"
     ]
    },
    {
     "name": "stdout",
     "output_type": "stream",
     "text": [
      "Cmode = False\n",
      "Number of time points is greater than the number of features\n",
      "stim shape (not cmode): \n",
      "(114988, 1957)\n",
      "Covmat shape: \n",
      "(1957, 1957)\n",
      "(1957, 1957) (1957, 114988) (114988, 63)\n",
      "wt shape:\n",
      "(1957, 63)\n",
      "(1957, 63)\n",
      "64 185394\n",
      "Cmode = False\n",
      "Number of time points is greater than the number of features\n",
      "Rstim shape (not cmode): \n",
      "(119063, 1957)\n",
      "Covmat shape: \n",
      "(1957, 1957)\n",
      "(1957, 1957) (1957, 119063) (119063, 64)\n"
     ]
    },
    {
     "name": "stderr",
     "output_type": "stream",
     "text": [
      "INFO:counter:1/10 items complete (12.31 seconds/item, 00:01:50 remaining)\n"
     ]
    },
    {
     "name": "stdout",
     "output_type": "stream",
     "text": [
      "Cmode = False\n",
      "Number of time points is greater than the number of features\n",
      "Rstim shape (not cmode): \n",
      "(119063, 1957)\n",
      "Covmat shape: \n",
      "(1957, 1957)\n",
      "(1957, 1957) (1957, 119063) (119063, 64)\n"
     ]
    },
    {
     "name": "stderr",
     "output_type": "stream",
     "text": [
      "INFO:counter:2/10 items complete (11.90 seconds/item, 00:01:35 remaining)\n"
     ]
    },
    {
     "name": "stdout",
     "output_type": "stream",
     "text": [
      "Cmode = False\n",
      "Number of time points is greater than the number of features\n",
      "Rstim shape (not cmode): \n",
      "(119063, 1957)\n",
      "Covmat shape: \n",
      "(1957, 1957)\n",
      "(1957, 1957) (1957, 119063) (119063, 64)\n"
     ]
    },
    {
     "name": "stderr",
     "output_type": "stream",
     "text": [
      "INFO:counter:3/10 items complete (11.33 seconds/item, 00:01:19 remaining)\n"
     ]
    },
    {
     "name": "stdout",
     "output_type": "stream",
     "text": [
      "Cmode = False\n",
      "Number of time points is greater than the number of features\n",
      "Rstim shape (not cmode): \n",
      "(119063, 1957)\n",
      "Covmat shape: \n",
      "(1957, 1957)\n",
      "(1957, 1957) (1957, 119063) (119063, 64)\n"
     ]
    },
    {
     "name": "stderr",
     "output_type": "stream",
     "text": [
      "INFO:counter:4/10 items complete (11.59 seconds/item, 00:01:09 remaining)\n"
     ]
    },
    {
     "name": "stdout",
     "output_type": "stream",
     "text": [
      "Cmode = False\n",
      "Number of time points is greater than the number of features\n",
      "Rstim shape (not cmode): \n",
      "(119063, 1957)\n",
      "Covmat shape: \n",
      "(1957, 1957)\n",
      "(1957, 1957) (1957, 119063) (119063, 64)\n"
     ]
    },
    {
     "name": "stderr",
     "output_type": "stream",
     "text": [
      "INFO:counter:5/10 items complete (11.35 seconds/item, 00:00:56 remaining)\n"
     ]
    },
    {
     "name": "stdout",
     "output_type": "stream",
     "text": [
      "Cmode = False\n",
      "Number of time points is greater than the number of features\n",
      "Rstim shape (not cmode): \n",
      "(119063, 1957)\n",
      "Covmat shape: \n",
      "(1957, 1957)\n",
      "(1957, 1957) (1957, 119063) (119063, 64)\n"
     ]
    },
    {
     "name": "stderr",
     "output_type": "stream",
     "text": [
      "INFO:counter:6/10 items complete (11.11 seconds/item, 00:00:44 remaining)\n"
     ]
    },
    {
     "name": "stdout",
     "output_type": "stream",
     "text": [
      "Cmode = False\n",
      "Number of time points is greater than the number of features\n",
      "Rstim shape (not cmode): \n",
      "(119063, 1957)\n",
      "Covmat shape: \n",
      "(1957, 1957)\n",
      "(1957, 1957) (1957, 119063) (119063, 64)\n"
     ]
    },
    {
     "name": "stderr",
     "output_type": "stream",
     "text": [
      "INFO:counter:7/10 items complete (10.86 seconds/item, 00:00:32 remaining)\n"
     ]
    },
    {
     "name": "stdout",
     "output_type": "stream",
     "text": [
      "Cmode = False\n",
      "Number of time points is greater than the number of features\n",
      "Rstim shape (not cmode): \n",
      "(119063, 1957)\n",
      "Covmat shape: \n",
      "(1957, 1957)\n",
      "(1957, 1957) (1957, 119063) (119063, 64)\n"
     ]
    },
    {
     "name": "stderr",
     "output_type": "stream",
     "text": [
      "INFO:counter:8/10 items complete (10.69 seconds/item, 00:00:21 remaining)\n"
     ]
    },
    {
     "name": "stdout",
     "output_type": "stream",
     "text": [
      "Cmode = False\n",
      "Number of time points is greater than the number of features\n",
      "Rstim shape (not cmode): \n",
      "(119063, 1957)\n",
      "Covmat shape: \n",
      "(1957, 1957)\n",
      "(1957, 1957) (1957, 119063) (119063, 64)\n"
     ]
    },
    {
     "name": "stderr",
     "output_type": "stream",
     "text": [
      "INFO:counter:9/10 items complete (10.57 seconds/item, 00:00:10 remaining)\n"
     ]
    },
    {
     "name": "stdout",
     "output_type": "stream",
     "text": [
      "Cmode = False\n",
      "Number of time points is greater than the number of features\n",
      "Rstim shape (not cmode): \n",
      "(119063, 1957)\n",
      "Covmat shape: \n",
      "(1957, 1957)\n",
      "(1957, 1957) (1957, 119063) (119063, 64)\n"
     ]
    },
    {
     "name": "stderr",
     "output_type": "stream",
     "text": [
      "INFO:counter:10/10 items complete (10.54 seconds/item, 00:00:00 remaining)\n"
     ]
    },
    {
     "name": "stdout",
     "output_type": "stream",
     "text": [
      "Cmode = False\n",
      "Number of time points is greater than the number of features\n",
      "stim shape (not cmode): \n",
      "(148315, 1957)\n",
      "Covmat shape: \n",
      "(1957, 1957)\n",
      "(1957, 1957) (1957, 148315) (148315, 64)\n",
      "wt shape:\n",
      "(1957, 64)\n",
      "(1957, 64)\n"
     ]
    }
   ],
   "source": [
    "# This cell takes an incredibly long time to run\n",
    "for s in tqdm(subjs):\n",
    "    blockid = s + '_B1'\n",
    "    # Fit the model\n",
    "    corrs,wts,dtStim,dtResp,dvStim,dvResp,valphas = strf.strf(\n",
    "        tResps[s],tStims[s],nboots=nboots, delay_min=tmin, delay_max=tmax,\n",
    "        vResp=vResps[s], vStim=vStims[s],flip_resp=True,alphas=alphas)\n",
    "    # Save model results to h5 file\n",
    "    with h5py.File(f'{h5_path}{model_number}/{s}_model.hdf5','w') as f:\n",
    "        f.create_dataset('wts',data=wts[s][0].reshape((tStims[s].shape[1],-1,dvResp[s].shape[1])))\n",
    "        f.create_dataset('corrs',data=corrs[s][0])\n",
    "        f.create_dataset('alphas',data=valphas[s])\n",
    "        f.create_dataset('dtStim',data=dtStim[s])\n",
    "        f.create_dataset('dtResp',data=dtResp[s])\n",
    "        f.create_dataset('dvStim',data=dvStim[s])\n",
    "        f.create_dataset('dvResp',data=dvResp[s])"
   ]
  }
 ],
 "metadata": {
  "kernelspec": {
   "display_name": "Python 3 (ipykernel)",
   "language": "python",
   "name": "python3"
  },
  "language_info": {
   "codemirror_mode": {
    "name": "ipython",
    "version": 3
   },
   "file_extension": ".py",
   "mimetype": "text/x-python",
   "name": "python",
   "nbconvert_exporter": "python",
   "pygments_lexer": "ipython3",
   "version": "3.9.7"
  }
 },
 "nbformat": 4,
 "nbformat_minor": 5
}
