{
 "cells": [
  {
   "cell_type": "markdown",
   "metadata": {},
   "source": [
    "For onsetProd, we want to do two blocks of one hundred trials each. This means we need to pick one hundred MOCHA sentences from this large corpus."
   ]
  },
  {
   "cell_type": "code",
   "execution_count": 1,
   "metadata": {},
   "outputs": [],
   "source": [
    "import numpy as np"
   ]
  },
  {
   "cell_type": "code",
   "execution_count": 5,
   "metadata": {},
   "outputs": [
    {
     "name": "stdout",
     "output_type": "stream",
     "text": [
      "460\n"
     ]
    }
   ],
   "source": [
    "mocha = np.loadtxt('SupplementalFiles/mocha_all.txt', dtype='str', delimiter='\\n')\n",
    "print(mocha.size)"
   ]
  },
  {
   "cell_type": "markdown",
   "metadata": {},
   "source": [
    "MOCHA being twenty years old makes some of this sampling easy, as we can just cut out the clearly problematic sentences."
   ]
  },
  {
   "cell_type": "code",
   "execution_count": 6,
   "metadata": {},
   "outputs": [
    {
     "name": "stdout",
     "output_type": "stream",
     "text": [
      "Women may never become completely equal to men.\n",
      "Suburban housewives often suffer from the gab habit.\n"
     ]
    }
   ],
   "source": [
    "print(mocha[381])\n",
    "print(mocha[448])"
   ]
  },
  {
   "cell_type": "markdown",
   "metadata": {},
   "source": [
    "Additionally, in a desparate attempt to cover English's vast inventory of acceptable syllable structures, MOCHA contains some sentences that are impossible for your average person to pronounce. These can go too."
   ]
  },
  {
   "cell_type": "code",
   "execution_count": 7,
   "metadata": {},
   "outputs": [
    {
     "name": "stdout",
     "output_type": "stream",
     "text": [
      "At twilight on the twelfth day we'll have Chablis.\n",
      "Many wealthy tycoons splurged and bought both a yacht and a schooner.\n"
     ]
    }
   ],
   "source": [
    "print(mocha[48])\n",
    "print(mocha[354])"
   ]
  },
  {
   "cell_type": "markdown",
   "metadata": {},
   "source": [
    "So, I went ahead and did this manually, which leaves us with a \"nice MOCHA.\""
   ]
  },
  {
   "cell_type": "code",
   "execution_count": 5,
   "metadata": {},
   "outputs": [
    {
     "name": "stdout",
     "output_type": "stream",
     "text": [
      "399\n",
      "So we reduced MOCHA by 61 sentences.\n"
     ]
    }
   ],
   "source": [
    "nice_mocha = np.loadtxt('nice_mocha.txt', dtype='str', delimiter='\\n')\n",
    "print(nice_mocha.size)\n",
    "print(\"So we reduced MOCHA by %d sentences.\" % ((mocha.size)-(nice_mocha.size)))"
   ]
  },
  {
   "cell_type": "markdown",
   "metadata": {},
   "source": [
    "This is still more than the 100 sentences we would like to use in our task. So, let's select 100 of these at random, then save it as `mocha_100.txt`."
   ]
  },
  {
   "cell_type": "code",
   "execution_count": 8,
   "metadata": {},
   "outputs": [
    {
     "name": "stdout",
     "output_type": "stream",
     "text": [
      "Are your grades higher or lower than Nancy's?\n",
      "She wore warm, fleecy, woolen overalls.\n",
      "Reading in poor light gives you eyestrain.\n",
      "Even I occasionally get the Monday blues!\n",
      "We are open every Monday evening.\n",
      "It's not easy to create illuminating examples.\n",
      "Mum strongly dislikes appetizers.\n",
      "Those who teach values first abolish cheating.\n",
      "The frightened child was gently subdued by his big brother.\n",
      "Even a simple vocabulary contains symbols.\n",
      "A crab challenged me, but a quick stab vanquished him.\n",
      "Glucose and fructose are natural sugars found in fruit.\n",
      "Are you looking for employment?\n",
      "Coffee is grown on steep, jungle-like slopes in temperate zones.\n",
      "We welcome many new students each year.\n",
      "Only the best players enjoy popularity.\n",
      "Calcium makes bones and teeth strong.\n",
      "Nothing is as offensive as innocence.\n",
      "Steve wore a bright red cashmere sweater.\n",
      "Barb's gold bracelet was a graduation present.\n",
      "Draw every outer line first, then fill in the interior.\n",
      "The water contained too much chlorine and stung his eyes.\n",
      "John's brother repainted the garage door.\n",
      "Challenge each general's intelligence.\n",
      "Ambidextrous pickpockets accomplish more.\n",
      "A muscular abdomen is good for your back.\n",
      "They own a big house in the remote countryside.\n",
      "The rose corsage smelled sweet.\n",
      "That pickpocket was caught red-handed.\n",
      "An adult male baboon's teeth are not suitable for eating shellfish.\n",
      "Her wardrobe consists of only skirts and blouses.\n",
      "The two artists exchanged autographs.\n",
      "Butterscotch fudge goes well with vanilla ice cream.\n",
      "Rich purchased several signed lithographs.\n",
      "Any contributions will be greatly appreciated.\n",
      "The cranberry bog gets very pretty in Autumn.\n",
      "How do oysters make pearls?\n",
      "May I order a parfait after I eat dinner?\n",
      "Is she going with you?\n",
      "Can the agency overthrow alien forces?\n",
      "A screwdriver is made from vodka and orange juice.\n",
      "How much allowance do you get?\n",
      "Cyclical programs will never compile.\n",
      "The Boston Ballet overcame their funding shortage.\n",
      "Every cab needs repainting often.\n",
      "Help Greg to pick a peck of potatoes.\n",
      "We like blue cheese but Victor likes brie.\n",
      "Count the number of teaspoons of soysauce that you add.\n",
      "Bagpipes and bongos are musical instruments.\n",
      "How good is your endurance?\n",
      "The essay undeniably reflects our view ably.\n",
      "A boring novel is a superb sleeping pill.\n",
      "Orange juice tastes funny after toothpaste.\n",
      "The willowy woman wore a muskrat coat.\n",
      "The misquote was retracted with an apology.\n",
      "I just saw Jim near the new archeological museum.\n",
      "Right now may not be the best time for business mergers.\n",
      "The misprint provoked an immediate disclaimer.\n",
      "They all enjoy ice cream sundaes.\n",
      "Do atypical farmers grow oats?\n",
      "Diane may splurge and buy a turquoise necklace.\n",
      "Grandmother outgrew her upbringing in petticoats.\n",
      "Objects made of pewter are beautiful.\n",
      "Artificial intelligence is for real.\n",
      "Todd placed top priority on getting his bike fixed.\n",
      "When peeling an orange, it is hard not to spray juice.\n",
      "The morning dew on the spider web glistened in the sun.\n",
      "Tornados often destroy aviaries.\n",
      "They remained lifelong friends and companions.\n",
      "The football team coach has a watch as thin as a dime.\n",
      "They often go out in the evening.\n",
      "Our experiment's positive outcome was unexpected.\n",
      "Each stag surely finds a big fawn.\n",
      "The cigarettes in the clay ashtray overflowed onto the oak table.\n",
      "Project development was proceeding too slowly.\n",
      "Will Robin wear a yellow lily?\n",
      "Thomas thinks a larger clamp solves the problem.\n",
      "This was easy for us.\n",
      "December and January are nice months to spend in Miami.\n",
      "Last year's gas shortage caused steep price increases.\n",
      "Agricultural products are unevenly distributed.\n",
      "By eating yogurt, you may live longer.\n",
      "The causeway ended abruptly at the shore.\n",
      "Weatherproof galoshes are very useful in Seattle.\n",
      "The speech symposium might begin on Monday.\n",
      "I'd rather not buy these shoes than be overcharged.\n",
      "Be careful not to plow over the flower beds.\n",
      "The overweight charmer could slip poison into anyone's tea.\n",
      "The angry boy answered but didn't look up.\n",
      "Which long article was opaque and needed clarification?\n",
      "Help celebrate your brother's success.\n",
      "Will you please confirm government policy regarding waste removal?\n",
      "They assume no burglar will ever enter here.\n",
      "He will allow a rare lie.\n",
      "Curiosity and mediocrity seldom co-exist.\n",
      "His sudden departure shocked the cast.\n",
      "She slipped and sprained her ankle on the steep slope.\n",
      "A big goat idly ambled through the farmyard.\n",
      "Should giraffes be kept in small zoos?\n",
      "We got drenched from the uninterrupted rain.\n"
     ]
    }
   ],
   "source": [
    "mocha_sample = np.random.choice(((nice_mocha.size)-1),100, replace=False)\n",
    "mocha_100 = nice_mocha[mocha_sample]\n",
    "mocha_100 = '\\n'.join(mocha_100)\n",
    "\n",
    "f = open(\"mocha_100.txt\", \"w+\")\n",
    "f.write(mocha_100);\n",
    "f.close()\n",
    "\n",
    "print(mocha_100)"
   ]
  }
 ],
 "metadata": {
  "kernelspec": {
   "display_name": "Python 3",
   "language": "python",
   "name": "python3"
  },
  "language_info": {
   "codemirror_mode": {
    "name": "ipython",
    "version": 3
   },
   "file_extension": ".py",
   "mimetype": "text/x-python",
   "name": "python",
   "nbconvert_exporter": "python",
   "pygments_lexer": "ipython3",
   "version": "3.7.4"
  }
 },
 "nbformat": 4,
 "nbformat_minor": 2
}
