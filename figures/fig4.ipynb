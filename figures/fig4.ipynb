{
 "cells": [
  {
   "cell_type": "markdown",
   "id": "76581fc8",
   "metadata": {},
   "source": [
    "## Figure 4"
   ]
  },
  {
   "cell_type": "code",
   "execution_count": null,
   "id": "574cc1bb",
   "metadata": {},
   "outputs": [],
   "source": [
    "import mne\n",
    "import numpy as np\n",
    "import csv\n",
    "from glob import glob\n",
    "from tqdm.notebook import tqdm\n",
    "import pandas as pd\n",
    "import h5py\n",
    "from scipy.spatial import ConvexHull\n",
    "from matplotlib import pyplot as plt\n",
    "from matplotlib import rcParams as rc\n",
    "rc['pdf.fonttype'] = 42\n",
    "plt.style.use('seaborn')\n",
    "import sys\n",
    "sys.path.append('../preprocessing/utils/')\n",
    "import strf"
   ]
  },
  {
   "cell_type": "code",
   "execution_count": null,
   "id": "c78f92e4",
   "metadata": {},
   "outputs": [],
   "source": [
    "# Change these path for running the notebook locally\n",
    "eeg_data_path = '/path/to/dataset/' # downloadable from OSF: https://doi.org/10.17605/OSF.IO/FNRD9\n",
    "git_path  = '/path/to/git/speaker_induced_suppression_EEG/'\n",
    "# Where the output of train_linear_model.ipynb is saved. Run that first if you haven't already.\n",
    "h5_path = '/path/to/h5/' "
   ]
  },
  {
   "cell_type": "code",
   "execution_count": null,
   "id": "c955f20c",
   "metadata": {},
   "outputs": [],
   "source": [
    "perception_color = '#117733'\n",
    "production_color = '#332288'\n",
    "consistent_color = '#ddcc77'\n",
    "inconsistent_color = '#aa4499'\n",
    "picks = ['F1','Fz','F2','FC1','FCz','FC2','C1','Cz','C2']\n",
    "tmin,tmax = -.3, .5\n",
    "delays = np.arange(np.floor(tmin*128),np.ceil(tmax*128),dtype=int)\n",
    "exclude = ['OP0001','OP0002','OP0004','OP0017','OP0020']\n",
    "subjs = np.sort([s[-6:] for s in glob(f'{git_path}eventfiles/*') if 'OP0' in s and s[-6:] not in exclude])\n",
    "models = ['model1','model1e','model2','model2e','model3','model3e','model4','model4e']\n",
    "features = {model_number:strf.get_feats(model_number=model_number,extend_labels=True) for model_number in models}\n",
    "n_feats = {model_number:len(features[model_number]) for model_number in models}"
   ]
  },
  {
   "cell_type": "markdown",
   "id": "2662dddf",
   "metadata": {},
   "source": [
    "### Load data"
   ]
  },
  {
   "cell_type": "code",
   "execution_count": null,
   "id": "ef7c7e17",
   "metadata": {},
   "outputs": [],
   "source": [
    "# Load data from hdf5, pandas\n",
    "wts, corrs, pvals, sig_wts, sig_corrs, alphas = dict(), dict(), dict(), dict(), dict(), dict()\n",
    "results_csv_fpath = f\"{git_path}stats/lem_results.csv\"\n",
    "df = pd.read_csv(results_csv_fpath)\n",
    "for m in models:\n",
    "    wts[m], corrs[m], pvals[m], sig_wts[m], sig_corrs[m], alphas[m] = dict(), dict(), dict(), dict(), dict(), dict()\n",
    "    b = tqdm(subjs)\n",
    "    for s in b:\n",
    "        blockid = f\"{s}_B1\"\n",
    "        b.set_description(f'Loading STRF for {s} {m}')\n",
    "        with h5py.File(f\"{h5_path}{s}_weights.hdf5\",'r') as f:\n",
    "            wts[m][s] = np.array(f.get(m))\n",
    "        ch_names = mne.io.read_raw_brainvision(f\"{eeg_data_path}{s}/{blockid}/{blockid}_cca.vhdr\",\n",
    "                                               preload=False,verbose=False).info['ch_names']\n",
    "        subj_corrs, subj_best_alphas, subj_pvals = np.zeros(len(ch_names)), np.zeros(len(ch_names)), np.zeros(len(ch_names))\n",
    "        for i, ch in enumerate(ch_names):\n",
    "            tgt_row = df[(df['subject']==s) & (df['model']==m) & (df['channel']==ch)]\n",
    "            subj_corrs[i] = df.loc[tgt_row.index, 'r_value']\n",
    "            subj_best_alphas[i] = df.loc[tgt_row.index, 'best_alpha']\n",
    "            subj_pvals[i] = df.loc[tgt_row.index, 'p_value']\n",
    "        corrs[m][s] = np.array(subj_corrs)\n",
    "        pvals[m][s] = np.array(subj_pvals)\n",
    "        alphas[m][s] = np.array(subj_best_alphas)\n",
    "    # Extract significant weights, corrs\n",
    "    for s in subjs:\n",
    "        nchans = wts[m][s].shape[2]\n",
    "        sig_wts[m][s] = np.zeros((len(delays),n_feats[m],nchans))\n",
    "        sig_corrs[m][s] = np.zeros((nchans))\n",
    "        for i in np.arange(nchans):\n",
    "            if pvals[m][s][i] < 0.01:\n",
    "                sig_wts[m][s][i] = wts[m][s][i]\n",
    "                sig_corrs[m][s][i] = corrs[m][s][i]"
   ]
  },
  {
   "cell_type": "markdown",
   "id": "5451a8b1",
   "metadata": {},
   "source": [
    "### Plotting"
   ]
  },
  {
   "cell_type": "code",
   "execution_count": null,
   "id": "0f90e3eb",
   "metadata": {},
   "outputs": [],
   "source": [
    "# Convex hull plot\n",
    "def convex_hull(xcorrs,ycorrs,\n",
    "                corr_min=0.,corr_max=0.5,\n",
    "                hull_color='hotpink',hull_alpha=0.5):\n",
    "    '''\n",
    "    xcorrs,ycorrs: 1D NumPy array of correlation coefficients\n",
    "    '''\n",
    "    plt.gca().set_xlim([corr_min,corr_max])\n",
    "    plt.gca().set_ylim([corr_min,corr_max])\n",
    "    plt.gca().set_yticks(np.hstack((np.arange(corr_min,corr_max,step=0.1),corr_max)))\n",
    "    plt.gca().set_xticks(np.hstack((np.arange(corr_min,corr_max,step=0.1),corr_max)))\n",
    "    hull = ConvexHull(np.vstack((xcorrs,ycorrs)).T)\n",
    "    vhull = hull.vertices.copy()\n",
    "    vhull = np.append(vhull,vhull[0])\n",
    "    plt.fill(xcorrs[vhull],ycorrs[vhull],color=hull_color,alpha=hull_alpha)\n",
    "    plt.tight_layout()"
   ]
  },
  {
   "cell_type": "code",
   "execution_count": null,
   "id": "b11ec861",
   "metadata": {},
   "outputs": [],
   "source": [
    "fig = plt.figure(figsize=(5,5))\n",
    "corr_min,corr_max = -.1,.6\n",
    "plt.xlabel('Model correlation\\n EMG regressed')\n",
    "plt.ylabel('Model correlation\\n EMG not regressed')\n",
    "# Regress EMG\n",
    "xcorrs = np.hstack(list(corrs['model1'].values()))\n",
    "ycorrs = np.hstack(list(corrs['model1e'].values()))\n",
    "convex_hull(xcorrs,ycorrs,corr_min=corr_min,corr_max=corr_max,hull_color=cca_color,hull_alpha=0.4)\n",
    "plt.scatter(xcorrs,ycorrs,s=5,color='red')\n",
    "plt.bar(0,0,color=cca_color,label=\"Identical feature encoding\")\n",
    "# Don't regress EMG\n",
    "xcorrs = np.hstack(list(corrs['model2'].values()))\n",
    "ycorrs = np.hstack(list(corrs['model2e'].values()))\n",
    "convex_hull(xcorrs,ycorrs,corr_min=corr_min,corr_max=corr_max,hull_color=raw_color,hull_alpha=0.4)\n",
    "plt.scatter(xcorrs,ycorrs,s=5,color='blue');\n",
    "plt.bar(0,0,color=raw_color,label='Task-specific feature encoding')\n",
    "plt.plot([corr_min,corr_max],[corr_min,corr_max],color='k',alpha=0.5)\n",
    "\n",
    "plt.legend()\n",
    "plt.tight_layout()"
   ]
  },
  {
   "cell_type": "code",
   "execution_count": null,
   "id": "8f769bbd",
   "metadata": {},
   "outputs": [],
   "source": [
    "fig = plt.figure(figsize=(5,5))\n",
    "corr_min,corr_max = -.1,.6\n",
    "plt.xlabel('Model correlation\\n identical feature encoding')\n",
    "plt.ylabel('Model correlation\\n task-specific feature encoding')\n",
    "# Regress EMG\n",
    "xcorrs = np.hstack(list(corrs['model1'].values()))\n",
    "ycorrs = np.hstack(list(corrs['model2'].values()))\n",
    "convex_hull(xcorrs,ycorrs,corr_min=corr_min,corr_max=corr_max,hull_color=cca_color,hull_alpha=0.4)\n",
    "plt.scatter(xcorrs,ycorrs,s=5,color='red')\n",
    "plt.bar(0,0,color=cca_color,label=\"EMG regressed\")\n",
    "# Don't regress EMG\n",
    "xcorrs = np.hstack(list(corrs['model1e'].values()))\n",
    "ycorrs = np.hstack(list(corrs['model2e'].values()))\n",
    "convex_hull(xcorrs,ycorrs,corr_min=corr_min,corr_max=corr_max,hull_color=raw_color,hull_alpha=0.4)\n",
    "plt.scatter(xcorrs,ycorrs,s=5,color='blue');\n",
    "plt.bar(0,0,color=raw_color,label='EMG not regressed')\n",
    "plt.plot([corr_min,corr_max],[corr_min,corr_max],color='k',alpha=0.5)\n",
    "plt.legend()\n",
    "plt.tight_layout()"
   ]
  }
 ],
 "metadata": {
  "kernelspec": {
   "display_name": "Python 3 (ipykernel)",
   "language": "python",
   "name": "python3"
  },
  "language_info": {
   "codemirror_mode": {
    "name": "ipython",
    "version": 3
   },
   "file_extension": ".py",
   "mimetype": "text/x-python",
   "name": "python",
   "nbconvert_exporter": "python",
   "pygments_lexer": "ipython3",
   "version": "3.9.7"
  }
 },
 "nbformat": 4,
 "nbformat_minor": 5
}
