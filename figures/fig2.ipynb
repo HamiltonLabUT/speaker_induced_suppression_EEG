{
 "cells": [
  {
   "cell_type": "markdown",
   "id": "2fb4301e",
   "metadata": {},
   "source": [
    "## Figure 2"
   ]
  },
  {
   "cell_type": "code",
   "execution_count": 32,
   "id": "9b2cd906",
   "metadata": {},
   "outputs": [],
   "source": [
    "import mne\n",
    "import numpy as np\n",
    "import csv\n",
    "from glob import glob\n",
    "from matplotlib import pyplot as plt\n",
    "from matplotlib import rcParams as rc\n",
    "from tqdm.notebook import tqdm\n",
    "rc['pdf.fonttype'] = 42\n",
    "plt.style.use('seaborn')"
   ]
  },
  {
   "cell_type": "code",
   "execution_count": 3,
   "id": "b88efaf5",
   "metadata": {},
   "outputs": [],
   "source": [
    "# Change these path for running the notebook locally\n",
    "# eeg_data_path = '/path/to/dataset/' # downloadable from OSF: https://doi.org/10.17605/OSF.IO/FNRD9\n",
    "# git_path  = '/path/to/git/speaker_induced_suppression_EEG/'\n",
    "git_path = '/Users/kfsh/git/onsetProd/'\n",
    "eeg_data_path = '/Users/kfsh/Library/CloudStorage/Box-Box/onsetProd/eeg/'"
   ]
  },
  {
   "cell_type": "code",
   "execution_count": 29,
   "id": "357ba858",
   "metadata": {},
   "outputs": [],
   "source": [
    "perception_color = '#117733'\n",
    "production_color = '#332288'\n",
    "predictable_color = '#ddcc77'\n",
    "unpredictable_color = '#aa4499'\n",
    "picks = ['F1','Fz','F2','FC1','FCz','FC2','C1','Cz','C2']\n",
    "tmin,tmax = -1.5, 3.5\n",
    "baseline=(None,0)\n",
    "reject_thresh = 10 # SD\n",
    "exclude = 'OP0020'\n",
    "# subjs = np.sort([s[-6:] for s in glob(f'{git_path}/eventfiles/*') if 'OP0' in s])\n",
    "subjs = np.sort([s[-6:] for s in glob(f'{git_path}eeg/eventfiles/*') if 'OP0' in s and exclude not in s])"
   ]
  },
  {
   "cell_type": "markdown",
   "id": "9d49773b",
   "metadata": {},
   "source": [
    "### Load and epoch data"
   ]
  },
  {
   "cell_type": "code",
   "execution_count": 30,
   "id": "b59426f5",
   "metadata": {},
   "outputs": [],
   "source": [
    "def interpolate_bads(subj,block,raw,git_path,eeg_data_path):\n",
    "    '''\n",
    "    CCA .vhdr files do not include bad channels, so this func interpolates them.\n",
    "    The end result is each subject has a 64 channel raw arrray, which makes plotting easier\n",
    "    Filter the data before running this!\n",
    "    '''\n",
    "    blockid = subj + '_' + block\n",
    "    nsamps = len(raw)\n",
    "    info = mne.io.read_raw_brainvision(f'{eeg_data_path}{subj}/{blockid}/{blockid}_cca.vhdr',\n",
    "                                           preload=False,verbose=False).info\n",
    "    ch_names = info['ch_names']\n",
    "    bads = [c for c in ch_names if c not in raw.info['ch_names']]\n",
    "    if len(bads) > 0:\n",
    "        new_data = []\n",
    "        for ch in ch_names:\n",
    "            if ch in bads:\n",
    "                print('Interpolating', ch)\n",
    "                new_data.append(np.zeros((1,nsamps)))\n",
    "            else:\n",
    "                new_data.append(raw.get_data(picks=ch)[0])\n",
    "        raw = mne.io.RawArray(np.vstack(new_data),info)\n",
    "        raw.info['bads'] = bads\n",
    "        raw.interpolate_bads()\n",
    "    else:\n",
    "        print(subj, 'has no bads.')\n",
    "    return raw"
   ]
  },
  {
   "cell_type": "code",
   "execution_count": 34,
   "id": "41d6672c",
   "metadata": {},
   "outputs": [
    {
     "data": {
      "application/vnd.jupyter.widget-view+json": {
       "model_id": "db16c12d0a6c454dbb4678fafc833ca9",
       "version_major": 2,
       "version_minor": 0
      },
      "text/plain": [
       "  0%|          | 0/20 [00:00<?, ?it/s]"
      ]
     },
     "metadata": {},
     "output_type": "display_data"
    },
    {
     "name": "stdout",
     "output_type": "stream",
     "text": [
      "OP0001 has no bads.\n"
     ]
    },
    {
     "ename": "NameError",
     "evalue": "name 'eeg' is not defined",
     "output_type": "error",
     "traceback": [
      "\u001b[0;31m---------------------------------------------------------------------------\u001b[0m",
      "\u001b[0;31mNameError\u001b[0m                                 Traceback (most recent call last)",
      "\u001b[0;32m/var/folders/72/y7rz3xw121n5pp8przhfnd5c0000gn/T/ipykernel_82530/1018410606.py\u001b[0m in \u001b[0;36m<module>\u001b[0;34m\u001b[0m\n\u001b[1;32m     40\u001b[0m                 \u001b[0mevents\u001b[0m \u001b[0;34m=\u001b[0m \u001b[0mnp\u001b[0m\u001b[0;34m.\u001b[0m\u001b[0marray\u001b[0m\u001b[0;34m(\u001b[0m\u001b[0mevents\u001b[0m\u001b[0;34m,\u001b[0m \u001b[0mdtype\u001b[0m\u001b[0;34m=\u001b[0m\u001b[0mnp\u001b[0m\u001b[0;34m.\u001b[0m\u001b[0mint\u001b[0m\u001b[0;34m)\u001b[0m\u001b[0;34m\u001b[0m\u001b[0;34m\u001b[0m\u001b[0m\n\u001b[1;32m     41\u001b[0m             \u001b[0;32melse\u001b[0m\u001b[0;34m:\u001b[0m\u001b[0;34m\u001b[0m\u001b[0;34m\u001b[0m\u001b[0m\n\u001b[0;32m---> 42\u001b[0;31m                 strs, events = eeg.load_data(s, block, ch, 'sentence', co, data_path,\n\u001b[0m\u001b[1;32m     43\u001b[0m                                              git_path, load_raw=False, sfreq=128)\n\u001b[1;32m     44\u001b[0m             reject = mne.Epochs(raws[s], events, tmin=tmin, tmax=tmax,reject=None,\n",
      "\u001b[0;31mNameError\u001b[0m: name 'eeg' is not defined"
     ]
    }
   ],
   "source": [
    "raws, spkr_epochs, mic_epochs, spkr_resp, mic_resp = dict(), dict(), dict(), dict(), dict()\n",
    "conditions = ['echolalia','shuffled','all']\n",
    "channels = ['spkr', 'mic']\n",
    "conditions\n",
    "subj_bar = tqdm(subjs)\n",
    "for s in subj_bar:\n",
    "    spkr_epochs[s], mic_epochs[s], spkr_resp[s], mic_resp[s] = dict(), dict(), dict(), dict()\n",
    "    if s != 'OP0002':\n",
    "        block = 'B1'\n",
    "    else:\n",
    "        block = 'B2'\n",
    "    blockid = s + '_' + block\n",
    "    raw_path = f'{eeg_data_path}{s}/{blockid}/{blockid}_cca.vhdr'\n",
    "    raw = mne.io.read_raw_brainvision(raw_path,preload=True,verbose=False)\n",
    "    raw.filter(l_freq=1,h_freq=30,verbose=False)\n",
    "    raws[s] = interpolate_bads(s,block,raw,git_path,eeg_data_path)\n",
    "    for ch in channels:\n",
    "        spkr_epochs[s][ch], mic_epochs[s][ch], spkr_resp[s][ch], mic_resp[s][ch] = dict(), dict(), dict(), dict()\n",
    "        for co in conditions:\n",
    "            subj_bar.set_description(f'Epoching {s} {ch} {co}')\n",
    "            if s in ['OP0015','OP0016']: # mtpl blocks\n",
    "                events = []\n",
    "                for b in ['B1','B2']: \n",
    "                    event_file = eeg.get_event_file(\n",
    "                        s,b,ch,'sentence',co,git_path,mode='eeg')\n",
    "                    if b == 'B2':\n",
    "                        b2_fpath = raw_path = f'{data_path}eeg/{s}/{s}_B1/{s}_B1_downsampled.vhdr'\n",
    "                        b2_raw = mne.io.read_raw_brainvision(\n",
    "                            b2_fpath,preload=True,verbose=False)\n",
    "                        block_shift = b2_raw.last_samp\n",
    "                    else:\n",
    "                        block_shift = 0\n",
    "                    with open(event_file, 'r') as my_csv:\n",
    "                        csvReader = csv.reader(my_csv, delimiter='\\t')\n",
    "                        for row in csvReader:\n",
    "                            onset = int((float(row[0])*128)+block_shift)\n",
    "                            offset = int((float(row[1])*128)+block_shift)\n",
    "                            sn_id = int(row[2])\n",
    "                            events.append([onset,offset,sn_id])     \n",
    "                events = np.array(events, dtype=np.int)\n",
    "            else:\n",
    "                strs, events = eeg.load_data(s, block, ch, 'sentence', co, data_path,\n",
    "                                             git_path, load_raw=False, sfreq=128)\n",
    "            reject = mne.Epochs(raws[s], events, tmin=tmin, tmax=tmax,reject=None,\n",
    "                           baseline=baseline,verbose=False)\n",
    "            reject = reject.get_data(picks=picks)\n",
    "            reject = dict(eeg=np.std(reject)*(reject_thresh*2))\n",
    "            epochs = mne.Epochs(raws[s],events,tmin=tmin,tmax=tmax,reject=reject,\n",
    "                                   baseline=baseline,verbose=False)\n",
    "            if ch == 'spkr':\n",
    "                spkr_epochs[s][ch][co] = epochs\n",
    "                spkr_resp[s][ch][co] = epochs.get_data(picks=picks)\n",
    "            if ch == 'mic':\n",
    "                mic_epochs[s][ch][co] = epochs\n",
    "                mic_resp[s][ch][co] = epochs.get_data(picks=picks)\n",
    "# NMF stuff below:\n",
    "# all_spkr = []\n",
    "# all_mic = []\n",
    "# all_echo = []\n",
    "# all_shuff = []\n",
    "# all_stderr_spkr = []\n",
    "# all_stderr_mic = []\n",
    "# all_stderr_echo = []\n",
    "# all_stderr_shuff = []\n",
    "# for s in subjs:\n",
    "#     erp_spkr = spkr_resp[s]['spkr']['all'].mean(0)\n",
    "#     erp_mic = mic_resp[s]['mic']['all'].mean(0)\n",
    "#     erp_echo = spkr_resp[s]['spkr']['echolalia'].mean(0)\n",
    "#     erp_shuff = spkr_resp[s]['spkr']['shuffled'].mean(0)\n",
    "\n",
    "#     stderr_spkr = spkr_resp[s]['spkr']['all'].std(axis=0)/np.sqrt(spkr_resp[s]['spkr']['all'].shape[0])\n",
    "#     stderr_mic = mic_resp[s]['mic']['all'].std(axis=0)/np.sqrt(mic_resp[s]['mic']['all'].shape[0])\n",
    "#     stderr_echo = spkr_resp[s]['spkr']['echolalia'].std(axis=0)/np.sqrt(spkr_resp[s]['spkr']['echolalia'].shape[0])\n",
    "#     stderr_shuff = spkr_resp[s]['spkr']['shuffled'].std(axis=0)/np.sqrt(spkr_resp[s]['spkr']['shuffled'].shape[0])\n",
    "#     all_spkr.append(erp_spkr)\n",
    "#     all_mic.append(erp_mic)\n",
    "#     all_echo.append(erp_echo)\n",
    "#     all_stderr_spkr.append(stderr_spkr)\n",
    "#     all_stderr_mic.append(stderr_mic)\n",
    "#     all_stderr_echo.append(stderr_echo)\n",
    "#     all_shuff.append(erp_shuff)\n",
    "#     all_stderr_shuff.append(stderr_shuff)\n",
    "\n",
    "# all_spkr = np.vstack((all_spkr))\n",
    "# all_mic = np.vstack((all_mic))\n",
    "# all_echo = np.vstack((all_echo))\n",
    "# all_shuff = np.vstack((all_shuff))\n",
    "# all_stderr_spkr = np.vstack((all_stderr_spkr))\n",
    "# all_stderr_mic = np.vstack((all_stderr_mic))\n",
    "# all_stderr_echo = np.vstack((all_stderr_echo))\n",
    "# all_stderr_shuff = np.vstack((all_stderr_shuff))"
   ]
  },
  {
   "cell_type": "code",
   "execution_count": null,
   "id": "6c56d1be",
   "metadata": {},
   "outputs": [],
   "source": []
  }
 ],
 "metadata": {
  "kernelspec": {
   "display_name": "Python 3 (ipykernel)",
   "language": "python",
   "name": "python3"
  },
  "language_info": {
   "codemirror_mode": {
    "name": "ipython",
    "version": 3
   },
   "file_extension": ".py",
   "mimetype": "text/x-python",
   "name": "python",
   "nbconvert_exporter": "python",
   "pygments_lexer": "ipython3",
   "version": "3.9.7"
  }
 },
 "nbformat": 4,
 "nbformat_minor": 5
}
